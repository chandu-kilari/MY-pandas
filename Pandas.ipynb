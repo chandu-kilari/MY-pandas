{
 "cells": [
  {
   "cell_type": "markdown",
   "id": "d47faa2f-26e9-4af2-b1c2-fcf6dc289a92",
   "metadata": {},
   "source": [
    "# Pandas"
   ]
  },
  {
   "cell_type": "markdown",
   "id": "5b90b1d2-971d-4d88-9e34-bb46262b63fe",
   "metadata": {},
   "source": [
    "Pandas is a python library used for Data Cleaning, Data Wrangling, Data Manipilation and Organizing Data.\n",
    "\n",
    "Pandas is built on top of Numpy Library."
   ]
  },
  {
   "cell_type": "code",
   "execution_count": 3,
   "id": "d10d665c-ac64-41f5-93d1-ba0a385090d2",
   "metadata": {},
   "outputs": [],
   "source": [
    "import pandas as pd"
   ]
  },
  {
   "cell_type": "code",
   "execution_count": 4,
   "id": "dd143360-f999-4900-8a2e-2add88386eaf",
   "metadata": {},
   "outputs": [],
   "source": [
    "import numpy as np"
   ]
  },
  {
   "cell_type": "markdown",
   "id": "80ebd431-be7a-4b8c-9677-444cf051edfd",
   "metadata": {},
   "source": [
    "# Series Data"
   ]
  },
  {
   "cell_type": "markdown",
   "id": "f4104187-9a24-45ea-a021-f48a720b6a4c",
   "metadata": {},
   "source": [
    "Series data means single data column."
   ]
  },
  {
   "cell_type": "code",
   "execution_count": 5,
   "id": "da158bcf-6ab1-421f-ad6d-d23df605bf43",
   "metadata": {},
   "outputs": [
    {
     "data": {
      "text/plain": [
       "0    23\n",
       "1    45\n",
       "2    67\n",
       "3    89\n",
       "4    97\n",
       "dtype: int64"
      ]
     },
     "execution_count": 5,
     "metadata": {},
     "output_type": "execute_result"
    }
   ],
   "source": [
    "S = pd.Series([23,45,67,89,97])\n",
    "S"
   ]
  },
  {
   "cell_type": "code",
   "execution_count": 6,
   "id": "51a76cca-4f77-4565-821f-bcade0a8ec4e",
   "metadata": {},
   "outputs": [
    {
     "data": {
      "text/plain": [
       "0       10\n",
       "1      100\n",
       "2     1000\n",
       "3    10000\n",
       "dtype: int64"
      ]
     },
     "execution_count": 6,
     "metadata": {},
     "output_type": "execute_result"
    }
   ],
   "source": [
    "L = [10,100,1000,10000]\n",
    "S1 = pd.Series(L)\n",
    "S1"
   ]
  },
  {
   "cell_type": "code",
   "execution_count": 7,
   "id": "c306c003-f338-4709-b465-284f6cf0f48f",
   "metadata": {},
   "outputs": [
    {
     "data": {
      "text/plain": [
       "pandas.core.series.Series"
      ]
     },
     "execution_count": 7,
     "metadata": {},
     "output_type": "execute_result"
    }
   ],
   "source": [
    "type(S)"
   ]
  },
  {
   "cell_type": "code",
   "execution_count": 8,
   "id": "0c57b8d8-fc22-4508-8a4b-6f20a9768c0d",
   "metadata": {},
   "outputs": [],
   "source": [
    "S.index = ['a','b','c','d','e']   # changing index value"
   ]
  },
  {
   "cell_type": "code",
   "execution_count": 9,
   "id": "8dfbc84a-612d-44d9-b637-37c566f6e5e3",
   "metadata": {},
   "outputs": [
    {
     "data": {
      "text/plain": [
       "a    23\n",
       "b    45\n",
       "c    67\n",
       "d    89\n",
       "e    97\n",
       "dtype: int64"
      ]
     },
     "execution_count": 9,
     "metadata": {},
     "output_type": "execute_result"
    }
   ],
   "source": [
    "S"
   ]
  },
  {
   "cell_type": "code",
   "execution_count": 10,
   "id": "f3c6341d-297a-4bde-9a55-31963843b1ad",
   "metadata": {},
   "outputs": [],
   "source": [
    "S = pd.Series([98,87,76,65,23],index=['Naveen','Kumar','Sonu','Raj','Ram'])"
   ]
  },
  {
   "cell_type": "code",
   "execution_count": 11,
   "id": "96d3efea-1a9a-4a65-bad0-756dcadc190c",
   "metadata": {},
   "outputs": [
    {
     "data": {
      "text/plain": [
       "Naveen    98\n",
       "Kumar     87\n",
       "Sonu      76\n",
       "Raj       65\n",
       "Ram       23\n",
       "dtype: int64"
      ]
     },
     "execution_count": 11,
     "metadata": {},
     "output_type": "execute_result"
    }
   ],
   "source": [
    "S"
   ]
  },
  {
   "cell_type": "code",
   "execution_count": 12,
   "id": "436c58dd-a27c-45d5-816d-05fb97baef7b",
   "metadata": {},
   "outputs": [],
   "source": [
    "# create a series with 10 random numbers with indexes 1 to 10"
   ]
  },
  {
   "cell_type": "code",
   "execution_count": 48,
   "id": "5f8f31c3-cace-4ddc-b067-286d27468bba",
   "metadata": {},
   "outputs": [
    {
     "data": {
      "text/plain": [
       "1     0.994690\n",
       "2     0.575020\n",
       "3     0.587040\n",
       "4     0.984277\n",
       "5     0.546109\n",
       "6     0.255132\n",
       "7     0.133775\n",
       "8     0.125436\n",
       "9     0.261919\n",
       "10    0.641814\n",
       "dtype: float64"
      ]
     },
     "execution_count": 48,
     "metadata": {},
     "output_type": "execute_result"
    }
   ],
   "source": [
    "N = np.random.random(10)\n",
    "I = np.arange(1,11)\n",
    "s3 = pd.Series(np.random.random(10),np.arange(1,11))\n",
    "s3"
   ]
  },
  {
   "cell_type": "code",
   "execution_count": 14,
   "id": "5205a040-dda0-4f1b-baad-4fc3fc3a7b43",
   "metadata": {},
   "outputs": [
    {
     "data": {
      "text/plain": [
       "(10,)"
      ]
     },
     "execution_count": 14,
     "metadata": {},
     "output_type": "execute_result"
    }
   ],
   "source": [
    "s3.shape"
   ]
  },
  {
   "cell_type": "code",
   "execution_count": 15,
   "id": "2055722a-a5e8-4e42-a896-0acab309844c",
   "metadata": {},
   "outputs": [
    {
     "data": {
      "text/plain": [
       "1"
      ]
     },
     "execution_count": 15,
     "metadata": {},
     "output_type": "execute_result"
    }
   ],
   "source": [
    "s3.ndim"
   ]
  },
  {
   "cell_type": "code",
   "execution_count": 16,
   "id": "05f41feb-f628-4c9e-bc73-2dbe17039e12",
   "metadata": {},
   "outputs": [
    {
     "data": {
      "text/plain": [
       "10"
      ]
     },
     "execution_count": 16,
     "metadata": {},
     "output_type": "execute_result"
    }
   ],
   "source": [
    "s3.size"
   ]
  },
  {
   "cell_type": "markdown",
   "id": "81a56d38-265e-4a6d-a33a-a72d3b0003a9",
   "metadata": {},
   "source": [
    "# Accessing series items using Index"
   ]
  },
  {
   "cell_type": "code",
   "execution_count": 17,
   "id": "4b8ab5fb-4161-4abf-a61c-b8ca5d7a20d3",
   "metadata": {},
   "outputs": [
    {
     "data": {
      "text/plain": [
       "Naveen    98\n",
       "Kumar     87\n",
       "Sonu      76\n",
       "Raj       65\n",
       "Ram       23\n",
       "dtype: int64"
      ]
     },
     "execution_count": 17,
     "metadata": {},
     "output_type": "execute_result"
    }
   ],
   "source": [
    "S"
   ]
  },
  {
   "cell_type": "code",
   "execution_count": 18,
   "id": "dba89104-e2b7-4dcd-ad25-ee071ba5d5bd",
   "metadata": {},
   "outputs": [
    {
     "data": {
      "text/plain": [
       "Naveen    98\n",
       "Kumar     87\n",
       "Sonu      76\n",
       "Raj       65\n",
       "Ram       23\n",
       "dtype: int64"
      ]
     },
     "execution_count": 18,
     "metadata": {},
     "output_type": "execute_result"
    }
   ],
   "source": [
    "S[:]"
   ]
  },
  {
   "cell_type": "code",
   "execution_count": 19,
   "id": "a14dbe90-f712-4256-93af-66e2ea5a6644",
   "metadata": {},
   "outputs": [
    {
     "data": {
      "text/plain": [
       "np.int64(98)"
      ]
     },
     "execution_count": 19,
     "metadata": {},
     "output_type": "execute_result"
    }
   ],
   "source": [
    "S['Naveen']"
   ]
  },
  {
   "cell_type": "code",
   "execution_count": 20,
   "id": "5dca550a-d732-425a-9b8f-b462c13c69ad",
   "metadata": {},
   "outputs": [
    {
     "data": {
      "text/plain": [
       "Naveen    98\n",
       "dtype: int64"
      ]
     },
     "execution_count": 20,
     "metadata": {},
     "output_type": "execute_result"
    }
   ],
   "source": [
    "S[0:1]"
   ]
  },
  {
   "cell_type": "code",
   "execution_count": 21,
   "id": "36a0571b-8f8c-4d60-92a3-def6044dc803",
   "metadata": {},
   "outputs": [
    {
     "data": {
      "text/plain": [
       "Naveen    98\n",
       "Kumar     87\n",
       "Sonu      76\n",
       "dtype: int64"
      ]
     },
     "execution_count": 21,
     "metadata": {},
     "output_type": "execute_result"
    }
   ],
   "source": [
    "S[0:3]"
   ]
  },
  {
   "cell_type": "code",
   "execution_count": 22,
   "id": "bab9328c-9f53-48de-a7c9-cbc5f7acb337",
   "metadata": {},
   "outputs": [
    {
     "data": {
      "text/plain": [
       "Ram       23\n",
       "Raj       65\n",
       "Sonu      76\n",
       "Kumar     87\n",
       "Naveen    98\n",
       "dtype: int64"
      ]
     },
     "execution_count": 22,
     "metadata": {},
     "output_type": "execute_result"
    }
   ],
   "source": [
    "S[::-1]"
   ]
  },
  {
   "cell_type": "markdown",
   "id": "bfbc5cc5-a79b-4b3c-aad5-7ccb8be2d151",
   "metadata": {},
   "source": [
    "# Operation on Series Data"
   ]
  },
  {
   "cell_type": "code",
   "execution_count": 23,
   "id": "4abf215b-6e18-4fd9-91f5-9c254e809389",
   "metadata": {},
   "outputs": [],
   "source": [
    "S = pd.Series([23,45,67,89,97])"
   ]
  },
  {
   "cell_type": "code",
   "execution_count": 24,
   "id": "f8d7d962-1d0f-480a-aedb-6fb9969c5cab",
   "metadata": {},
   "outputs": [
    {
     "data": {
      "text/plain": [
       "np.float64(64.2)"
      ]
     },
     "execution_count": 24,
     "metadata": {},
     "output_type": "execute_result"
    }
   ],
   "source": [
    "S.mean()"
   ]
  },
  {
   "cell_type": "code",
   "execution_count": 25,
   "id": "74492dda-63cd-4edb-86f8-7063edafc514",
   "metadata": {},
   "outputs": [
    {
     "data": {
      "text/plain": [
       "np.float64(67.0)"
      ]
     },
     "execution_count": 25,
     "metadata": {},
     "output_type": "execute_result"
    }
   ],
   "source": [
    "np.median(S)"
   ]
  },
  {
   "cell_type": "code",
   "execution_count": 26,
   "id": "7529cd4c-9db8-48ff-a21d-9376bd5d19d7",
   "metadata": {},
   "outputs": [
    {
     "data": {
      "text/plain": [
       "np.int64(321)"
      ]
     },
     "execution_count": 26,
     "metadata": {},
     "output_type": "execute_result"
    }
   ],
   "source": [
    "S.sum()"
   ]
  },
  {
   "cell_type": "code",
   "execution_count": 27,
   "id": "9cb497c3-b442-4eb2-9803-68e8cf69ad57",
   "metadata": {},
   "outputs": [
    {
     "data": {
      "text/plain": [
       "np.int64(23)"
      ]
     },
     "execution_count": 27,
     "metadata": {},
     "output_type": "execute_result"
    }
   ],
   "source": [
    "S.min()"
   ]
  },
  {
   "cell_type": "code",
   "execution_count": 28,
   "id": "106bf2da-c5bc-48ac-888c-d5d5c268c009",
   "metadata": {},
   "outputs": [
    {
     "data": {
      "text/plain": [
       "np.int64(97)"
      ]
     },
     "execution_count": 28,
     "metadata": {},
     "output_type": "execute_result"
    }
   ],
   "source": [
    "S.max()"
   ]
  },
  {
   "cell_type": "code",
   "execution_count": 29,
   "id": "e1d61bfd-1747-4277-a66e-482903d75de9",
   "metadata": {},
   "outputs": [
    {
     "data": {
      "text/plain": [
       "np.int64(4)"
      ]
     },
     "execution_count": 29,
     "metadata": {},
     "output_type": "execute_result"
    }
   ],
   "source": [
    "S.argmax()   # index of max value in a series"
   ]
  },
  {
   "cell_type": "code",
   "execution_count": 30,
   "id": "542416ff-2460-4996-93e6-0f0be4d5ad35",
   "metadata": {},
   "outputs": [
    {
     "data": {
      "text/plain": [
       "np.int64(0)"
      ]
     },
     "execution_count": 30,
     "metadata": {},
     "output_type": "execute_result"
    }
   ],
   "source": [
    "S.argmin()"
   ]
  },
  {
   "cell_type": "code",
   "execution_count": 31,
   "id": "0de9038e-4afb-4314-b1e6-3778d06d6771",
   "metadata": {},
   "outputs": [],
   "source": [
    "# Addition of two series\n",
    "\n",
    "S1 = pd.Series([12,23,34,45,67])\n",
    "S2 = pd.Series([1,2,3,4,5])"
   ]
  },
  {
   "cell_type": "code",
   "execution_count": 32,
   "id": "f7a7262a-1167-4fb1-8fe2-a02456b2420d",
   "metadata": {},
   "outputs": [
    {
     "data": {
      "text/plain": [
       "0    13\n",
       "1    25\n",
       "2    37\n",
       "3    49\n",
       "4    72\n",
       "dtype: int64"
      ]
     },
     "execution_count": 32,
     "metadata": {},
     "output_type": "execute_result"
    }
   ],
   "source": [
    "S1.add(S2)   # Addition"
   ]
  },
  {
   "cell_type": "code",
   "execution_count": 33,
   "id": "3925d4fa-660f-4403-9a40-c146545c1174",
   "metadata": {},
   "outputs": [
    {
     "data": {
      "text/plain": [
       "0    11\n",
       "1    21\n",
       "2    31\n",
       "3    41\n",
       "4    62\n",
       "dtype: int64"
      ]
     },
     "execution_count": 33,
     "metadata": {},
     "output_type": "execute_result"
    }
   ],
   "source": [
    "S1.sub(S2)   # Subtraction"
   ]
  },
  {
   "cell_type": "code",
   "execution_count": 34,
   "id": "7d2550af-aa5a-4e86-a442-92bb493e9482",
   "metadata": {},
   "outputs": [
    {
     "data": {
      "text/plain": [
       "0     12\n",
       "1     46\n",
       "2    102\n",
       "3    180\n",
       "4    335\n",
       "dtype: int64"
      ]
     },
     "execution_count": 34,
     "metadata": {},
     "output_type": "execute_result"
    }
   ],
   "source": [
    "S1.mul(S2)   # Multiplication"
   ]
  },
  {
   "cell_type": "code",
   "execution_count": 35,
   "id": "ab92025a-017b-46f3-9a77-b30d7c4e6903",
   "metadata": {},
   "outputs": [
    {
     "data": {
      "text/plain": [
       "0    12.000000\n",
       "1    11.500000\n",
       "2    11.333333\n",
       "3    11.250000\n",
       "4    13.400000\n",
       "dtype: float64"
      ]
     },
     "execution_count": 35,
     "metadata": {},
     "output_type": "execute_result"
    }
   ],
   "source": [
    "S1.divide(S2)  # Division"
   ]
  },
  {
   "cell_type": "code",
   "execution_count": 36,
   "id": "bb26c000-645a-4c3b-99f5-db04cbe2e88c",
   "metadata": {},
   "outputs": [
    {
     "data": {
      "text/plain": [
       "0    12\n",
       "1    23\n",
       "2    34\n",
       "3    45\n",
       "4    67\n",
       "dtype: int64"
      ]
     },
     "execution_count": 36,
     "metadata": {},
     "output_type": "execute_result"
    }
   ],
   "source": [
    "S1.sort_values()  # sort values in ascending order"
   ]
  },
  {
   "cell_type": "code",
   "execution_count": 37,
   "id": "78c178c6-456d-49b9-844f-f64c5120e120",
   "metadata": {},
   "outputs": [],
   "source": [
    "S3 = pd.Series([1,1,2,2,2,2,2,2,5,5,5,6,6,6,6,6,6,6,7,7,7,8,8,9,9,9,9])"
   ]
  },
  {
   "cell_type": "code",
   "execution_count": 38,
   "id": "7323d800-4a1b-433a-87d9-53e12de4d7f1",
   "metadata": {},
   "outputs": [
    {
     "data": {
      "text/plain": [
       "6    7\n",
       "2    6\n",
       "9    4\n",
       "7    3\n",
       "5    3\n",
       "1    2\n",
       "8    2\n",
       "Name: count, dtype: int64"
      ]
     },
     "execution_count": 38,
     "metadata": {},
     "output_type": "execute_result"
    }
   ],
   "source": [
    "S3.value_counts()   # return count no. of occurances of each items in a series"
   ]
  },
  {
   "cell_type": "markdown",
   "id": "87b74d93-cecc-4196-943a-6b275bed8d73",
   "metadata": {},
   "source": [
    "# Data Frame"
   ]
  },
  {
   "cell_type": "code",
   "execution_count": 39,
   "id": "f3febc6f-00c8-4dff-89cc-e52b8be6faf8",
   "metadata": {},
   "outputs": [],
   "source": [
    "# Creating a dataframe"
   ]
  },
  {
   "cell_type": "code",
   "execution_count": 40,
   "id": "f117984c-a9b9-41ff-866e-dcd9450cfe5f",
   "metadata": {},
   "outputs": [
    {
     "data": {
      "text/html": [
       "<div>\n",
       "<style scoped>\n",
       "    .dataframe tbody tr th:only-of-type {\n",
       "        vertical-align: middle;\n",
       "    }\n",
       "\n",
       "    .dataframe tbody tr th {\n",
       "        vertical-align: top;\n",
       "    }\n",
       "\n",
       "    .dataframe thead th {\n",
       "        text-align: right;\n",
       "    }\n",
       "</style>\n",
       "<table border=\"1\" class=\"dataframe\">\n",
       "  <thead>\n",
       "    <tr style=\"text-align: right;\">\n",
       "      <th></th>\n",
       "      <th>0</th>\n",
       "    </tr>\n",
       "  </thead>\n",
       "  <tbody>\n",
       "    <tr>\n",
       "      <th>0</th>\n",
       "      <td>Nav</td>\n",
       "    </tr>\n",
       "    <tr>\n",
       "      <th>1</th>\n",
       "      <td>Kumar</td>\n",
       "    </tr>\n",
       "    <tr>\n",
       "      <th>2</th>\n",
       "      <td>Raj</td>\n",
       "    </tr>\n",
       "    <tr>\n",
       "      <th>3</th>\n",
       "      <td>Sonu</td>\n",
       "    </tr>\n",
       "  </tbody>\n",
       "</table>\n",
       "</div>"
      ],
      "text/plain": [
       "       0\n",
       "0    Nav\n",
       "1  Kumar\n",
       "2    Raj\n",
       "3   Sonu"
      ]
     },
     "execution_count": 40,
     "metadata": {},
     "output_type": "execute_result"
    }
   ],
   "source": [
    "df = pd.DataFrame(['Nav','Kumar','Raj','Sonu'])\n",
    "df"
   ]
  },
  {
   "cell_type": "code",
   "execution_count": 41,
   "id": "76dc2580-f4e5-4b9f-b5f5-1774505dd9c8",
   "metadata": {},
   "outputs": [
    {
     "data": {
      "text/plain": [
       "pandas.core.frame.DataFrame"
      ]
     },
     "execution_count": 41,
     "metadata": {},
     "output_type": "execute_result"
    }
   ],
   "source": [
    "type(df)"
   ]
  },
  {
   "cell_type": "code",
   "execution_count": 42,
   "id": "dc3da229-74e7-489a-86f2-8dd804eabb4e",
   "metadata": {},
   "outputs": [
    {
     "data": {
      "text/html": [
       "<div>\n",
       "<style scoped>\n",
       "    .dataframe tbody tr th:only-of-type {\n",
       "        vertical-align: middle;\n",
       "    }\n",
       "\n",
       "    .dataframe tbody tr th {\n",
       "        vertical-align: top;\n",
       "    }\n",
       "\n",
       "    .dataframe thead th {\n",
       "        text-align: right;\n",
       "    }\n",
       "</style>\n",
       "<table border=\"1\" class=\"dataframe\">\n",
       "  <thead>\n",
       "    <tr style=\"text-align: right;\">\n",
       "      <th></th>\n",
       "      <th>0</th>\n",
       "      <th>1</th>\n",
       "    </tr>\n",
       "  </thead>\n",
       "  <tbody>\n",
       "    <tr>\n",
       "      <th>0</th>\n",
       "      <td>Nav</td>\n",
       "      <td>23</td>\n",
       "    </tr>\n",
       "    <tr>\n",
       "      <th>1</th>\n",
       "      <td>Kumar</td>\n",
       "      <td>45</td>\n",
       "    </tr>\n",
       "    <tr>\n",
       "      <th>2</th>\n",
       "      <td>Raj</td>\n",
       "      <td>89</td>\n",
       "    </tr>\n",
       "    <tr>\n",
       "      <th>3</th>\n",
       "      <td>Sonu</td>\n",
       "      <td>67</td>\n",
       "    </tr>\n",
       "  </tbody>\n",
       "</table>\n",
       "</div>"
      ],
      "text/plain": [
       "       0   1\n",
       "0    Nav  23\n",
       "1  Kumar  45\n",
       "2    Raj  89\n",
       "3   Sonu  67"
      ]
     },
     "execution_count": 42,
     "metadata": {},
     "output_type": "execute_result"
    }
   ],
   "source": [
    "df[1] = [23,45,89,67]\n",
    "df"
   ]
  },
  {
   "cell_type": "code",
   "execution_count": 52,
   "id": "c641fe98-ab8c-44cb-beec-72d8dd8e3c5e",
   "metadata": {},
   "outputs": [
    {
     "data": {
      "text/plain": [
       "RangeIndex(start=0, stop=2, step=1)"
      ]
     },
     "execution_count": 52,
     "metadata": {},
     "output_type": "execute_result"
    }
   ],
   "source": [
    "df.columns"
   ]
  },
  {
   "cell_type": "code",
   "execution_count": 58,
   "id": "3ecfc827-1bfd-4206-8f4f-423304621f90",
   "metadata": {},
   "outputs": [],
   "source": [
    "df.columns={'Name',\"marks\"}  # renaming column name"
   ]
  },
  {
   "cell_type": "code",
   "execution_count": 59,
   "id": "8bd57312-0867-46e9-9e03-a419b0c20525",
   "metadata": {},
   "outputs": [
    {
     "data": {
      "text/plain": [
       "Index(['marks', 'Name'], dtype='object')"
      ]
     },
     "execution_count": 59,
     "metadata": {},
     "output_type": "execute_result"
    }
   ],
   "source": [
    "df.columns"
   ]
  },
  {
   "cell_type": "code",
   "execution_count": 60,
   "id": "67c0d456-ed72-4bed-a876-a7290765833e",
   "metadata": {},
   "outputs": [
    {
     "data": {
      "text/plain": [
       "0    23\n",
       "1    45\n",
       "2    89\n",
       "3    67\n",
       "Name: Name, dtype: int64"
      ]
     },
     "execution_count": 60,
     "metadata": {},
     "output_type": "execute_result"
    }
   ],
   "source": [
    "df['Name']   # accessing columns with their names"
   ]
  },
  {
   "cell_type": "code",
   "execution_count": 61,
   "id": "cce2c1bd-4406-4a65-9755-ffa6536b53fa",
   "metadata": {},
   "outputs": [
    {
     "data": {
      "text/plain": [
       "0      Nav\n",
       "1    Kumar\n",
       "2      Raj\n",
       "3     Sonu\n",
       "Name: marks, dtype: object"
      ]
     },
     "execution_count": 61,
     "metadata": {},
     "output_type": "execute_result"
    }
   ],
   "source": [
    "df['marks']"
   ]
  },
  {
   "cell_type": "code",
   "execution_count": null,
   "id": "f049ff12",
   "metadata": {},
   "outputs": [
    {
     "ename": "TypeError",
     "evalue": "'list' object is not callable",
     "output_type": "error",
     "traceback": [
      "\u001b[1;31m---------------------------------------------------------------------------\u001b[0m",
      "\u001b[1;31mTypeError\u001b[0m                                 Traceback (most recent call last)",
      "Cell \u001b[1;32mIn[65], line 1\u001b[0m\n\u001b[1;32m----> 1\u001b[0m \u001b[43mdf\u001b[49m\u001b[38;5;241;43m.\u001b[39;49m\u001b[43mrename\u001b[49m\u001b[43m(\u001b[49m\u001b[43mcolumns\u001b[49m\u001b[38;5;241;43m=\u001b[39;49m\u001b[43m{\u001b[49m\u001b[38;5;124;43m\"\u001b[39;49m\u001b[38;5;124;43mName\u001b[39;49m\u001b[38;5;124;43m\"\u001b[39;49m\u001b[43m:\u001b[49m\u001b[38;5;124;43m\"\u001b[39;49m\u001b[38;5;124;43mmarks\u001b[39;49m\u001b[38;5;124;43m\"\u001b[39;49m\u001b[43m,\u001b[49m\u001b[38;5;124;43m\"\u001b[39;49m\u001b[38;5;124;43mmarks\u001b[39;49m\u001b[38;5;124;43m\"\u001b[39;49m\u001b[43m:\u001b[49m\u001b[38;5;124;43m\"\u001b[39;49m\u001b[38;5;124;43mName\u001b[39;49m\u001b[38;5;124;43m\"\u001b[39;49m\u001b[43m}\u001b[49m\u001b[43m,\u001b[49m\u001b[43mindex\u001b[49m\u001b[38;5;241;43m=\u001b[39;49m\u001b[43m[\u001b[49m\u001b[38;5;124;43m'\u001b[39;49m\u001b[38;5;124;43mmarks\u001b[39;49m\u001b[38;5;124;43m'\u001b[39;49m\u001b[43m]\u001b[49m\u001b[43m)\u001b[49m\n",
      "File \u001b[1;32mc:\\Users\\chand\\AppData\\Local\\Programs\\Python\\Python312\\Lib\\site-packages\\pandas\\core\\frame.py:5767\u001b[0m, in \u001b[0;36mDataFrame.rename\u001b[1;34m(self, mapper, index, columns, axis, copy, inplace, level, errors)\u001b[0m\n\u001b[0;32m   5636\u001b[0m \u001b[38;5;28;01mdef\u001b[39;00m \u001b[38;5;21mrename\u001b[39m(\n\u001b[0;32m   5637\u001b[0m     \u001b[38;5;28mself\u001b[39m,\n\u001b[0;32m   5638\u001b[0m     mapper: Renamer \u001b[38;5;241m|\u001b[39m \u001b[38;5;28;01mNone\u001b[39;00m \u001b[38;5;241m=\u001b[39m \u001b[38;5;28;01mNone\u001b[39;00m,\n\u001b[1;32m   (...)\u001b[0m\n\u001b[0;32m   5646\u001b[0m     errors: IgnoreRaise \u001b[38;5;241m=\u001b[39m \u001b[38;5;124m\"\u001b[39m\u001b[38;5;124mignore\u001b[39m\u001b[38;5;124m\"\u001b[39m,\n\u001b[0;32m   5647\u001b[0m ) \u001b[38;5;241m-\u001b[39m\u001b[38;5;241m>\u001b[39m DataFrame \u001b[38;5;241m|\u001b[39m \u001b[38;5;28;01mNone\u001b[39;00m:\n\u001b[0;32m   5648\u001b[0m \u001b[38;5;250m    \u001b[39m\u001b[38;5;124;03m\"\"\"\u001b[39;00m\n\u001b[0;32m   5649\u001b[0m \u001b[38;5;124;03m    Rename columns or index labels.\u001b[39;00m\n\u001b[0;32m   5650\u001b[0m \n\u001b[1;32m   (...)\u001b[0m\n\u001b[0;32m   5765\u001b[0m \u001b[38;5;124;03m    4  3  6\u001b[39;00m\n\u001b[0;32m   5766\u001b[0m \u001b[38;5;124;03m    \"\"\"\u001b[39;00m\n\u001b[1;32m-> 5767\u001b[0m     \u001b[38;5;28;01mreturn\u001b[39;00m \u001b[38;5;28;43msuper\u001b[39;49m\u001b[43m(\u001b[49m\u001b[43m)\u001b[49m\u001b[38;5;241;43m.\u001b[39;49m\u001b[43m_rename\u001b[49m\u001b[43m(\u001b[49m\n\u001b[0;32m   5768\u001b[0m \u001b[43m        \u001b[49m\u001b[43mmapper\u001b[49m\u001b[38;5;241;43m=\u001b[39;49m\u001b[43mmapper\u001b[49m\u001b[43m,\u001b[49m\n\u001b[0;32m   5769\u001b[0m \u001b[43m        \u001b[49m\u001b[43mindex\u001b[49m\u001b[38;5;241;43m=\u001b[39;49m\u001b[43mindex\u001b[49m\u001b[43m,\u001b[49m\n\u001b[0;32m   5770\u001b[0m \u001b[43m        \u001b[49m\u001b[43mcolumns\u001b[49m\u001b[38;5;241;43m=\u001b[39;49m\u001b[43mcolumns\u001b[49m\u001b[43m,\u001b[49m\n\u001b[0;32m   5771\u001b[0m \u001b[43m        \u001b[49m\u001b[43maxis\u001b[49m\u001b[38;5;241;43m=\u001b[39;49m\u001b[43maxis\u001b[49m\u001b[43m,\u001b[49m\n\u001b[0;32m   5772\u001b[0m \u001b[43m        \u001b[49m\u001b[43mcopy\u001b[49m\u001b[38;5;241;43m=\u001b[39;49m\u001b[43mcopy\u001b[49m\u001b[43m,\u001b[49m\n\u001b[0;32m   5773\u001b[0m \u001b[43m        \u001b[49m\u001b[43minplace\u001b[49m\u001b[38;5;241;43m=\u001b[39;49m\u001b[43minplace\u001b[49m\u001b[43m,\u001b[49m\n\u001b[0;32m   5774\u001b[0m \u001b[43m        \u001b[49m\u001b[43mlevel\u001b[49m\u001b[38;5;241;43m=\u001b[39;49m\u001b[43mlevel\u001b[49m\u001b[43m,\u001b[49m\n\u001b[0;32m   5775\u001b[0m \u001b[43m        \u001b[49m\u001b[43merrors\u001b[49m\u001b[38;5;241;43m=\u001b[39;49m\u001b[43merrors\u001b[49m\u001b[43m,\u001b[49m\n\u001b[0;32m   5776\u001b[0m \u001b[43m    \u001b[49m\u001b[43m)\u001b[49m\n",
      "File \u001b[1;32mc:\\Users\\chand\\AppData\\Local\\Programs\\Python\\Python312\\Lib\\site-packages\\pandas\\core\\generic.py:1132\u001b[0m, in \u001b[0;36mNDFrame._rename\u001b[1;34m(self, mapper, index, columns, axis, copy, inplace, level, errors)\u001b[0m\n\u001b[0;32m   1125\u001b[0m         missing_labels \u001b[38;5;241m=\u001b[39m [\n\u001b[0;32m   1126\u001b[0m             label\n\u001b[0;32m   1127\u001b[0m             \u001b[38;5;28;01mfor\u001b[39;00m index, label \u001b[38;5;129;01min\u001b[39;00m \u001b[38;5;28menumerate\u001b[39m(replacements)\n\u001b[0;32m   1128\u001b[0m             \u001b[38;5;28;01mif\u001b[39;00m indexer[index] \u001b[38;5;241m==\u001b[39m \u001b[38;5;241m-\u001b[39m\u001b[38;5;241m1\u001b[39m\n\u001b[0;32m   1129\u001b[0m         ]\n\u001b[0;32m   1130\u001b[0m         \u001b[38;5;28;01mraise\u001b[39;00m \u001b[38;5;167;01mKeyError\u001b[39;00m(\u001b[38;5;124mf\u001b[39m\u001b[38;5;124m\"\u001b[39m\u001b[38;5;132;01m{\u001b[39;00mmissing_labels\u001b[38;5;132;01m}\u001b[39;00m\u001b[38;5;124m not found in axis\u001b[39m\u001b[38;5;124m\"\u001b[39m)\n\u001b[1;32m-> 1132\u001b[0m new_index \u001b[38;5;241m=\u001b[39m \u001b[43max\u001b[49m\u001b[38;5;241;43m.\u001b[39;49m\u001b[43m_transform_index\u001b[49m\u001b[43m(\u001b[49m\u001b[43mf\u001b[49m\u001b[43m,\u001b[49m\u001b[43m \u001b[49m\u001b[43mlevel\u001b[49m\u001b[38;5;241;43m=\u001b[39;49m\u001b[43mlevel\u001b[49m\u001b[43m)\u001b[49m\n\u001b[0;32m   1133\u001b[0m result\u001b[38;5;241m.\u001b[39m_set_axis_nocheck(new_index, axis\u001b[38;5;241m=\u001b[39maxis_no, inplace\u001b[38;5;241m=\u001b[39m\u001b[38;5;28;01mTrue\u001b[39;00m, copy\u001b[38;5;241m=\u001b[39m\u001b[38;5;28;01mFalse\u001b[39;00m)\n\u001b[0;32m   1134\u001b[0m result\u001b[38;5;241m.\u001b[39m_clear_item_cache()\n",
      "File \u001b[1;32mc:\\Users\\chand\\AppData\\Local\\Programs\\Python\\Python312\\Lib\\site-packages\\pandas\\core\\indexes\\base.py:6537\u001b[0m, in \u001b[0;36mIndex._transform_index\u001b[1;34m(self, func, level)\u001b[0m\n\u001b[0;32m   6535\u001b[0m     \u001b[38;5;28;01mreturn\u001b[39;00m \u001b[38;5;28mtype\u001b[39m(\u001b[38;5;28mself\u001b[39m)\u001b[38;5;241m.\u001b[39mfrom_arrays(values)\n\u001b[0;32m   6536\u001b[0m \u001b[38;5;28;01melse\u001b[39;00m:\n\u001b[1;32m-> 6537\u001b[0m     items \u001b[38;5;241m=\u001b[39m [\u001b[43mfunc\u001b[49m\u001b[43m(\u001b[49m\u001b[43mx\u001b[49m\u001b[43m)\u001b[49m \u001b[38;5;28;01mfor\u001b[39;00m x \u001b[38;5;129;01min\u001b[39;00m \u001b[38;5;28mself\u001b[39m]\n\u001b[0;32m   6538\u001b[0m     \u001b[38;5;28;01mreturn\u001b[39;00m Index(items, name\u001b[38;5;241m=\u001b[39m\u001b[38;5;28mself\u001b[39m\u001b[38;5;241m.\u001b[39mname, tupleize_cols\u001b[38;5;241m=\u001b[39m\u001b[38;5;28;01mFalse\u001b[39;00m)\n",
      "\u001b[1;31mTypeError\u001b[0m: 'list' object is not callable"
     ]
    }
   ],
   "source": [
    "df.rename(columns={\"Name\":\"marks\",\"marks\":\"Name\"})"
   ]
  },
  {
   "cell_type": "code",
   "execution_count": null,
   "id": "cfd6c1f9-bbba-4027-844f-f1f6f3b89e8d",
   "metadata": {},
   "outputs": [
    {
     "data": {
      "text/html": [
       "<div>\n",
       "<style scoped>\n",
       "    .dataframe tbody tr th:only-of-type {\n",
       "        vertical-align: middle;\n",
       "    }\n",
       "\n",
       "    .dataframe tbody tr th {\n",
       "        vertical-align: top;\n",
       "    }\n",
       "\n",
       "    .dataframe thead th {\n",
       "        text-align: right;\n",
       "    }\n",
       "</style>\n",
       "<table border=\"1\" class=\"dataframe\">\n",
       "  <thead>\n",
       "    <tr style=\"text-align: right;\">\n",
       "      <th></th>\n",
       "      <th>Name</th>\n",
       "      <th>Marks</th>\n",
       "      <th>%</th>\n",
       "    </tr>\n",
       "  </thead>\n",
       "  <tbody>\n",
       "    <tr>\n",
       "      <th>0</th>\n",
       "      <td>Nav</td>\n",
       "      <td>23</td>\n",
       "      <td>67%</td>\n",
       "    </tr>\n",
       "    <tr>\n",
       "      <th>1</th>\n",
       "      <td>Kumar</td>\n",
       "      <td>45</td>\n",
       "      <td>56%</td>\n",
       "    </tr>\n",
       "    <tr>\n",
       "      <th>2</th>\n",
       "      <td>Raj</td>\n",
       "      <td>89</td>\n",
       "      <td>89%</td>\n",
       "    </tr>\n",
       "    <tr>\n",
       "      <th>3</th>\n",
       "      <td>Sonu</td>\n",
       "      <td>67</td>\n",
       "      <td>90</td>\n",
       "    </tr>\n",
       "  </tbody>\n",
       "</table>\n",
       "</div>"
      ],
      "text/plain": [
       "    Name  Marks    %\n",
       "0    Nav     23  67%\n",
       "1  Kumar     45  56%\n",
       "2    Raj     89  89%\n",
       "3   Sonu     67   90"
      ]
     },
     "execution_count": 54,
     "metadata": {},
     "output_type": "execute_result"
    }
   ],
   "source": [
    "# Adding columns to dataframe\n",
    "\n",
    "df['%'] = ['67%','56%','89%','90']\n",
    "df"
   ]
  },
  {
   "cell_type": "code",
   "execution_count": 70,
   "id": "8786bbce-fae7-43f7-b233-b2e35ae2a2d4",
   "metadata": {},
   "outputs": [],
   "source": [
    "D = {'Name':['Pavan','Kumar','Rushi','Suresh','Raju'],\n",
    "    'YOP':[2022,2023,2024,2020,2021],\n",
    "    'total_marks':[1000,1000,1000,1000,1000],\n",
    "    'scored_marks':[999,888,777,666,678],\n",
    "    'percentage' : ['88.9','77.8','66.7','90.6','89.6']}"
   ]
  },
  {
   "cell_type": "code",
   "execution_count": 71,
   "id": "40004989-75ff-499f-aef9-c779a321dcb3",
   "metadata": {},
   "outputs": [
    {
     "data": {
      "text/html": [
       "<div>\n",
       "<style scoped>\n",
       "    .dataframe tbody tr th:only-of-type {\n",
       "        vertical-align: middle;\n",
       "    }\n",
       "\n",
       "    .dataframe tbody tr th {\n",
       "        vertical-align: top;\n",
       "    }\n",
       "\n",
       "    .dataframe thead th {\n",
       "        text-align: right;\n",
       "    }\n",
       "</style>\n",
       "<table border=\"1\" class=\"dataframe\">\n",
       "  <thead>\n",
       "    <tr style=\"text-align: right;\">\n",
       "      <th></th>\n",
       "      <th>Name</th>\n",
       "      <th>YOP</th>\n",
       "      <th>total_marks</th>\n",
       "      <th>scored_marks</th>\n",
       "      <th>percentage</th>\n",
       "    </tr>\n",
       "  </thead>\n",
       "  <tbody>\n",
       "    <tr>\n",
       "      <th>0</th>\n",
       "      <td>Pavan</td>\n",
       "      <td>2022</td>\n",
       "      <td>1000</td>\n",
       "      <td>999</td>\n",
       "      <td>88.9</td>\n",
       "    </tr>\n",
       "    <tr>\n",
       "      <th>1</th>\n",
       "      <td>Kumar</td>\n",
       "      <td>2023</td>\n",
       "      <td>1000</td>\n",
       "      <td>888</td>\n",
       "      <td>77.8</td>\n",
       "    </tr>\n",
       "    <tr>\n",
       "      <th>2</th>\n",
       "      <td>Rushi</td>\n",
       "      <td>2024</td>\n",
       "      <td>1000</td>\n",
       "      <td>777</td>\n",
       "      <td>66.7</td>\n",
       "    </tr>\n",
       "    <tr>\n",
       "      <th>3</th>\n",
       "      <td>Suresh</td>\n",
       "      <td>2020</td>\n",
       "      <td>1000</td>\n",
       "      <td>666</td>\n",
       "      <td>90.6</td>\n",
       "    </tr>\n",
       "    <tr>\n",
       "      <th>4</th>\n",
       "      <td>Raju</td>\n",
       "      <td>2021</td>\n",
       "      <td>1000</td>\n",
       "      <td>678</td>\n",
       "      <td>89.6</td>\n",
       "    </tr>\n",
       "  </tbody>\n",
       "</table>\n",
       "</div>"
      ],
      "text/plain": [
       "     Name   YOP  total_marks  scored_marks percentage\n",
       "0   Pavan  2022         1000           999       88.9\n",
       "1   Kumar  2023         1000           888       77.8\n",
       "2   Rushi  2024         1000           777       66.7\n",
       "3  Suresh  2020         1000           666       90.6\n",
       "4    Raju  2021         1000           678       89.6"
      ]
     },
     "execution_count": 71,
     "metadata": {},
     "output_type": "execute_result"
    }
   ],
   "source": [
    "df1 = pd.DataFrame(D)\n",
    "df1"
   ]
  },
  {
   "cell_type": "code",
   "execution_count": 72,
   "id": "f0ee90a9-8e93-4f74-8105-fe9b5d5fc521",
   "metadata": {},
   "outputs": [
    {
     "data": {
      "text/plain": [
       "0    999\n",
       "1    888\n",
       "2    777\n",
       "3    666\n",
       "4    678\n",
       "Name: scored_marks, dtype: int64"
      ]
     },
     "execution_count": 72,
     "metadata": {},
     "output_type": "execute_result"
    }
   ],
   "source": [
    "df1['scored_marks']"
   ]
  },
  {
   "cell_type": "code",
   "execution_count": 73,
   "id": "2aa3d03b-9da9-4426-ae4a-8a0030eb3bc4",
   "metadata": {},
   "outputs": [
    {
     "data": {
      "text/html": [
       "<div>\n",
       "<style scoped>\n",
       "    .dataframe tbody tr th:only-of-type {\n",
       "        vertical-align: middle;\n",
       "    }\n",
       "\n",
       "    .dataframe tbody tr th {\n",
       "        vertical-align: top;\n",
       "    }\n",
       "\n",
       "    .dataframe thead th {\n",
       "        text-align: right;\n",
       "    }\n",
       "</style>\n",
       "<table border=\"1\" class=\"dataframe\">\n",
       "  <thead>\n",
       "    <tr style=\"text-align: right;\">\n",
       "      <th></th>\n",
       "      <th>total_marks</th>\n",
       "      <th>scored_marks</th>\n",
       "    </tr>\n",
       "  </thead>\n",
       "  <tbody>\n",
       "    <tr>\n",
       "      <th>0</th>\n",
       "      <td>1000</td>\n",
       "      <td>999</td>\n",
       "    </tr>\n",
       "    <tr>\n",
       "      <th>1</th>\n",
       "      <td>1000</td>\n",
       "      <td>888</td>\n",
       "    </tr>\n",
       "    <tr>\n",
       "      <th>2</th>\n",
       "      <td>1000</td>\n",
       "      <td>777</td>\n",
       "    </tr>\n",
       "    <tr>\n",
       "      <th>3</th>\n",
       "      <td>1000</td>\n",
       "      <td>666</td>\n",
       "    </tr>\n",
       "    <tr>\n",
       "      <th>4</th>\n",
       "      <td>1000</td>\n",
       "      <td>678</td>\n",
       "    </tr>\n",
       "  </tbody>\n",
       "</table>\n",
       "</div>"
      ],
      "text/plain": [
       "   total_marks  scored_marks\n",
       "0         1000           999\n",
       "1         1000           888\n",
       "2         1000           777\n",
       "3         1000           666\n",
       "4         1000           678"
      ]
     },
     "execution_count": 73,
     "metadata": {},
     "output_type": "execute_result"
    }
   ],
   "source": [
    "df1[['total_marks','scored_marks']]"
   ]
  },
  {
   "cell_type": "code",
   "execution_count": 74,
   "id": "45a5e594-c96d-45bc-988a-89e4f5ee4551",
   "metadata": {},
   "outputs": [
    {
     "data": {
      "text/plain": [
       "Name            Pavan\n",
       "YOP              2022\n",
       "total_marks      1000\n",
       "scored_marks      999\n",
       "percentage       88.9\n",
       "Name: 0, dtype: object"
      ]
     },
     "execution_count": 74,
     "metadata": {},
     "output_type": "execute_result"
    }
   ],
   "source": [
    "df1.iloc[0]   # accessing by index location...."
   ]
  },
  {
   "cell_type": "code",
   "execution_count": 77,
   "id": "1bc33dc6-53de-40d6-b8c2-f27eaeb90794",
   "metadata": {},
   "outputs": [
    {
     "data": {
      "text/plain": [
       "Name            Pavan\n",
       "YOP              2022\n",
       "total_marks      1000\n",
       "scored_marks      999\n",
       "percentage       88.9\n",
       "Name: 0, dtype: object"
      ]
     },
     "execution_count": 77,
     "metadata": {},
     "output_type": "execute_result"
    }
   ],
   "source": [
    "df1.loc[0]"
   ]
  },
  {
   "cell_type": "code",
   "execution_count": null,
   "id": "97a369cf-a1bb-4b95-90ac-c57064ffcde6",
   "metadata": {},
   "outputs": [
    {
     "data": {
      "text/html": [
       "<div>\n",
       "<style scoped>\n",
       "    .dataframe tbody tr th:only-of-type {\n",
       "        vertical-align: middle;\n",
       "    }\n",
       "\n",
       "    .dataframe tbody tr th {\n",
       "        vertical-align: top;\n",
       "    }\n",
       "\n",
       "    .dataframe thead th {\n",
       "        text-align: right;\n",
       "    }\n",
       "</style>\n",
       "<table border=\"1\" class=\"dataframe\">\n",
       "  <thead>\n",
       "    <tr style=\"text-align: right;\">\n",
       "      <th></th>\n",
       "      <th>Name</th>\n",
       "      <th>YOP</th>\n",
       "      <th>total_marks</th>\n",
       "      <th>scored_marks</th>\n",
       "      <th>percentage</th>\n",
       "    </tr>\n",
       "  </thead>\n",
       "  <tbody>\n",
       "    <tr>\n",
       "      <th>0</th>\n",
       "      <td>Pavan</td>\n",
       "      <td>2022</td>\n",
       "      <td>1000</td>\n",
       "      <td>999</td>\n",
       "      <td>88.9</td>\n",
       "    </tr>\n",
       "    <tr>\n",
       "      <th>1</th>\n",
       "      <td>Kumar</td>\n",
       "      <td>2023</td>\n",
       "      <td>1000</td>\n",
       "      <td>888</td>\n",
       "      <td>77.8</td>\n",
       "    </tr>\n",
       "    <tr>\n",
       "      <th>2</th>\n",
       "      <td>Rushi</td>\n",
       "      <td>2024</td>\n",
       "      <td>1000</td>\n",
       "      <td>777</td>\n",
       "      <td>66.7</td>\n",
       "    </tr>\n",
       "    <tr>\n",
       "      <th>3</th>\n",
       "      <td>Suresh</td>\n",
       "      <td>2020</td>\n",
       "      <td>1000</td>\n",
       "      <td>666</td>\n",
       "      <td>90.6</td>\n",
       "    </tr>\n",
       "    <tr>\n",
       "      <th>4</th>\n",
       "      <td>Raju</td>\n",
       "      <td>2021</td>\n",
       "      <td>1000</td>\n",
       "      <td>678</td>\n",
       "      <td>89.6</td>\n",
       "    </tr>\n",
       "  </tbody>\n",
       "</table>\n",
       "</div>"
      ],
      "text/plain": [
       "     Name   YOP  total_marks  scored_marks percentage\n",
       "0   Pavan  2022         1000           999       88.9\n",
       "1   Kumar  2023         1000           888       77.8\n",
       "2   Rushi  2024         1000           777       66.7\n",
       "3  Suresh  2020         1000           666       90.6\n",
       "4    Raju  2021         1000           678       89.6"
      ]
     },
     "execution_count": 61,
     "metadata": {},
     "output_type": "execute_result"
    }
   ],
   "source": [
    "df1"
   ]
  },
  {
   "cell_type": "code",
   "execution_count": null,
   "id": "a5dd307b-009b-4be9-abe0-acfa318cd4c6",
   "metadata": {},
   "outputs": [
    {
     "data": {
      "text/html": [
       "<div>\n",
       "<style scoped>\n",
       "    .dataframe tbody tr th:only-of-type {\n",
       "        vertical-align: middle;\n",
       "    }\n",
       "\n",
       "    .dataframe tbody tr th {\n",
       "        vertical-align: top;\n",
       "    }\n",
       "\n",
       "    .dataframe thead th {\n",
       "        text-align: right;\n",
       "    }\n",
       "</style>\n",
       "<table border=\"1\" class=\"dataframe\">\n",
       "  <thead>\n",
       "    <tr style=\"text-align: right;\">\n",
       "      <th></th>\n",
       "      <th>Name</th>\n",
       "      <th>YOP</th>\n",
       "      <th>total_marks</th>\n",
       "      <th>scored_marks</th>\n",
       "      <th>percentage</th>\n",
       "    </tr>\n",
       "  </thead>\n",
       "  <tbody>\n",
       "    <tr>\n",
       "      <th>a</th>\n",
       "      <td>Pavan</td>\n",
       "      <td>2022</td>\n",
       "      <td>1000</td>\n",
       "      <td>999</td>\n",
       "      <td>88.9</td>\n",
       "    </tr>\n",
       "    <tr>\n",
       "      <th>b</th>\n",
       "      <td>Kumar</td>\n",
       "      <td>2023</td>\n",
       "      <td>1000</td>\n",
       "      <td>888</td>\n",
       "      <td>77.8</td>\n",
       "    </tr>\n",
       "    <tr>\n",
       "      <th>c</th>\n",
       "      <td>Rushi</td>\n",
       "      <td>2024</td>\n",
       "      <td>1000</td>\n",
       "      <td>777</td>\n",
       "      <td>66.7</td>\n",
       "    </tr>\n",
       "    <tr>\n",
       "      <th>d</th>\n",
       "      <td>Suresh</td>\n",
       "      <td>2020</td>\n",
       "      <td>1000</td>\n",
       "      <td>666</td>\n",
       "      <td>90.6</td>\n",
       "    </tr>\n",
       "    <tr>\n",
       "      <th>e</th>\n",
       "      <td>Raju</td>\n",
       "      <td>2021</td>\n",
       "      <td>1000</td>\n",
       "      <td>678</td>\n",
       "      <td>89.6</td>\n",
       "    </tr>\n",
       "  </tbody>\n",
       "</table>\n",
       "</div>"
      ],
      "text/plain": [
       "     Name   YOP  total_marks  scored_marks percentage\n",
       "a   Pavan  2022         1000           999       88.9\n",
       "b   Kumar  2023         1000           888       77.8\n",
       "c   Rushi  2024         1000           777       66.7\n",
       "d  Suresh  2020         1000           666       90.6\n",
       "e    Raju  2021         1000           678       89.6"
      ]
     },
     "execution_count": 62,
     "metadata": {},
     "output_type": "execute_result"
    }
   ],
   "source": [
    "df1.index = ['a','b','c','d','e']  # changing index\n",
    "df1"
   ]
  },
  {
   "cell_type": "code",
   "execution_count": null,
   "id": "038ba340-4bb6-4d9b-a887-e1580e3e5169",
   "metadata": {},
   "outputs": [
    {
     "data": {
      "text/plain": [
       "Name            Pavan\n",
       "YOP              2022\n",
       "total_marks      1000\n",
       "scored_marks      999\n",
       "percentage       88.9\n",
       "Name: a, dtype: object"
      ]
     },
     "execution_count": 63,
     "metadata": {},
     "output_type": "execute_result"
    }
   ],
   "source": [
    "df1.iloc[0]"
   ]
  },
  {
   "cell_type": "code",
   "execution_count": null,
   "id": "1f73328d-808a-4a37-a7ba-0a41ba34d6fd",
   "metadata": {},
   "outputs": [
    {
     "data": {
      "text/plain": [
       "Name            Kumar\n",
       "YOP              2023\n",
       "total_marks      1000\n",
       "scored_marks      888\n",
       "percentage       77.8\n",
       "Name: b, dtype: object"
      ]
     },
     "execution_count": 64,
     "metadata": {},
     "output_type": "execute_result"
    }
   ],
   "source": [
    "df1.loc['b']"
   ]
  },
  {
   "cell_type": "code",
   "execution_count": null,
   "id": "12f53ae8-5cf3-4cc5-94af-ff0782b94f12",
   "metadata": {},
   "outputs": [
    {
     "data": {
      "text/html": [
       "<div>\n",
       "<style scoped>\n",
       "    .dataframe tbody tr th:only-of-type {\n",
       "        vertical-align: middle;\n",
       "    }\n",
       "\n",
       "    .dataframe tbody tr th {\n",
       "        vertical-align: top;\n",
       "    }\n",
       "\n",
       "    .dataframe thead th {\n",
       "        text-align: right;\n",
       "    }\n",
       "</style>\n",
       "<table border=\"1\" class=\"dataframe\">\n",
       "  <thead>\n",
       "    <tr style=\"text-align: right;\">\n",
       "      <th></th>\n",
       "      <th>Name</th>\n",
       "      <th>YOP</th>\n",
       "      <th>total_marks</th>\n",
       "      <th>scored_marks</th>\n",
       "      <th>percentage</th>\n",
       "    </tr>\n",
       "  </thead>\n",
       "  <tbody>\n",
       "    <tr>\n",
       "      <th>a</th>\n",
       "      <td>Pavan</td>\n",
       "      <td>2022</td>\n",
       "      <td>1000</td>\n",
       "      <td>999</td>\n",
       "      <td>88.9</td>\n",
       "    </tr>\n",
       "    <tr>\n",
       "      <th>b</th>\n",
       "      <td>Kumar</td>\n",
       "      <td>2023</td>\n",
       "      <td>1000</td>\n",
       "      <td>888</td>\n",
       "      <td>77.8</td>\n",
       "    </tr>\n",
       "    <tr>\n",
       "      <th>c</th>\n",
       "      <td>Rushi</td>\n",
       "      <td>2024</td>\n",
       "      <td>1000</td>\n",
       "      <td>777</td>\n",
       "      <td>66.7</td>\n",
       "    </tr>\n",
       "  </tbody>\n",
       "</table>\n",
       "</div>"
      ],
      "text/plain": [
       "    Name   YOP  total_marks  scored_marks percentage\n",
       "a  Pavan  2022         1000           999       88.9\n",
       "b  Kumar  2023         1000           888       77.8\n",
       "c  Rushi  2024         1000           777       66.7"
      ]
     },
     "execution_count": 65,
     "metadata": {},
     "output_type": "execute_result"
    }
   ],
   "source": [
    "df1['a':'c']"
   ]
  },
  {
   "cell_type": "markdown",
   "id": "20f73771-722a-4728-b3fc-4449d8117243",
   "metadata": {},
   "source": [
    "# Loading Dataset"
   ]
  },
  {
   "cell_type": "code",
   "execution_count": null,
   "id": "4cdc7ee3-8fbd-413c-acf1-cf1f6a099e90",
   "metadata": {},
   "outputs": [],
   "source": [
    "import pandas as pd"
   ]
  },
  {
   "cell_type": "code",
   "execution_count": null,
   "id": "a97fa787-c099-4a8e-9008-52fb2a417470",
   "metadata": {},
   "outputs": [
    {
     "ename": "FileNotFoundError",
     "evalue": "[Errno 2] No such file or directory: 'C:/Users/pavan/OneDrive/Desktop/iris.csv'",
     "output_type": "error",
     "traceback": [
      "\u001b[1;31m---------------------------------------------------------------------------\u001b[0m",
      "\u001b[1;31mFileNotFoundError\u001b[0m                         Traceback (most recent call last)",
      "Cell \u001b[1;32mIn[67], line 1\u001b[0m\n\u001b[1;32m----> 1\u001b[0m df \u001b[38;5;241m=\u001b[39m \u001b[43mpd\u001b[49m\u001b[38;5;241;43m.\u001b[39;49m\u001b[43mread_csv\u001b[49m\u001b[43m(\u001b[49m\u001b[38;5;124;43m'\u001b[39;49m\u001b[38;5;124;43mC:/Users/pavan/OneDrive/Desktop/iris.csv\u001b[39;49m\u001b[38;5;124;43m'\u001b[39;49m\u001b[43m)\u001b[49m\n",
      "File \u001b[1;32mc:\\Users\\chand\\AppData\\Local\\Programs\\Python\\Python312\\Lib\\site-packages\\pandas\\io\\parsers\\readers.py:1026\u001b[0m, in \u001b[0;36mread_csv\u001b[1;34m(filepath_or_buffer, sep, delimiter, header, names, index_col, usecols, dtype, engine, converters, true_values, false_values, skipinitialspace, skiprows, skipfooter, nrows, na_values, keep_default_na, na_filter, verbose, skip_blank_lines, parse_dates, infer_datetime_format, keep_date_col, date_parser, date_format, dayfirst, cache_dates, iterator, chunksize, compression, thousands, decimal, lineterminator, quotechar, quoting, doublequote, escapechar, comment, encoding, encoding_errors, dialect, on_bad_lines, delim_whitespace, low_memory, memory_map, float_precision, storage_options, dtype_backend)\u001b[0m\n\u001b[0;32m   1013\u001b[0m kwds_defaults \u001b[38;5;241m=\u001b[39m _refine_defaults_read(\n\u001b[0;32m   1014\u001b[0m     dialect,\n\u001b[0;32m   1015\u001b[0m     delimiter,\n\u001b[1;32m   (...)\u001b[0m\n\u001b[0;32m   1022\u001b[0m     dtype_backend\u001b[38;5;241m=\u001b[39mdtype_backend,\n\u001b[0;32m   1023\u001b[0m )\n\u001b[0;32m   1024\u001b[0m kwds\u001b[38;5;241m.\u001b[39mupdate(kwds_defaults)\n\u001b[1;32m-> 1026\u001b[0m \u001b[38;5;28;01mreturn\u001b[39;00m \u001b[43m_read\u001b[49m\u001b[43m(\u001b[49m\u001b[43mfilepath_or_buffer\u001b[49m\u001b[43m,\u001b[49m\u001b[43m \u001b[49m\u001b[43mkwds\u001b[49m\u001b[43m)\u001b[49m\n",
      "File \u001b[1;32mc:\\Users\\chand\\AppData\\Local\\Programs\\Python\\Python312\\Lib\\site-packages\\pandas\\io\\parsers\\readers.py:620\u001b[0m, in \u001b[0;36m_read\u001b[1;34m(filepath_or_buffer, kwds)\u001b[0m\n\u001b[0;32m    617\u001b[0m _validate_names(kwds\u001b[38;5;241m.\u001b[39mget(\u001b[38;5;124m\"\u001b[39m\u001b[38;5;124mnames\u001b[39m\u001b[38;5;124m\"\u001b[39m, \u001b[38;5;28;01mNone\u001b[39;00m))\n\u001b[0;32m    619\u001b[0m \u001b[38;5;66;03m# Create the parser.\u001b[39;00m\n\u001b[1;32m--> 620\u001b[0m parser \u001b[38;5;241m=\u001b[39m \u001b[43mTextFileReader\u001b[49m\u001b[43m(\u001b[49m\u001b[43mfilepath_or_buffer\u001b[49m\u001b[43m,\u001b[49m\u001b[43m \u001b[49m\u001b[38;5;241;43m*\u001b[39;49m\u001b[38;5;241;43m*\u001b[39;49m\u001b[43mkwds\u001b[49m\u001b[43m)\u001b[49m\n\u001b[0;32m    622\u001b[0m \u001b[38;5;28;01mif\u001b[39;00m chunksize \u001b[38;5;129;01mor\u001b[39;00m iterator:\n\u001b[0;32m    623\u001b[0m     \u001b[38;5;28;01mreturn\u001b[39;00m parser\n",
      "File \u001b[1;32mc:\\Users\\chand\\AppData\\Local\\Programs\\Python\\Python312\\Lib\\site-packages\\pandas\\io\\parsers\\readers.py:1620\u001b[0m, in \u001b[0;36mTextFileReader.__init__\u001b[1;34m(self, f, engine, **kwds)\u001b[0m\n\u001b[0;32m   1617\u001b[0m     \u001b[38;5;28mself\u001b[39m\u001b[38;5;241m.\u001b[39moptions[\u001b[38;5;124m\"\u001b[39m\u001b[38;5;124mhas_index_names\u001b[39m\u001b[38;5;124m\"\u001b[39m] \u001b[38;5;241m=\u001b[39m kwds[\u001b[38;5;124m\"\u001b[39m\u001b[38;5;124mhas_index_names\u001b[39m\u001b[38;5;124m\"\u001b[39m]\n\u001b[0;32m   1619\u001b[0m \u001b[38;5;28mself\u001b[39m\u001b[38;5;241m.\u001b[39mhandles: IOHandles \u001b[38;5;241m|\u001b[39m \u001b[38;5;28;01mNone\u001b[39;00m \u001b[38;5;241m=\u001b[39m \u001b[38;5;28;01mNone\u001b[39;00m\n\u001b[1;32m-> 1620\u001b[0m \u001b[38;5;28mself\u001b[39m\u001b[38;5;241m.\u001b[39m_engine \u001b[38;5;241m=\u001b[39m \u001b[38;5;28;43mself\u001b[39;49m\u001b[38;5;241;43m.\u001b[39;49m\u001b[43m_make_engine\u001b[49m\u001b[43m(\u001b[49m\u001b[43mf\u001b[49m\u001b[43m,\u001b[49m\u001b[43m \u001b[49m\u001b[38;5;28;43mself\u001b[39;49m\u001b[38;5;241;43m.\u001b[39;49m\u001b[43mengine\u001b[49m\u001b[43m)\u001b[49m\n",
      "File \u001b[1;32mc:\\Users\\chand\\AppData\\Local\\Programs\\Python\\Python312\\Lib\\site-packages\\pandas\\io\\parsers\\readers.py:1880\u001b[0m, in \u001b[0;36mTextFileReader._make_engine\u001b[1;34m(self, f, engine)\u001b[0m\n\u001b[0;32m   1878\u001b[0m     \u001b[38;5;28;01mif\u001b[39;00m \u001b[38;5;124m\"\u001b[39m\u001b[38;5;124mb\u001b[39m\u001b[38;5;124m\"\u001b[39m \u001b[38;5;129;01mnot\u001b[39;00m \u001b[38;5;129;01min\u001b[39;00m mode:\n\u001b[0;32m   1879\u001b[0m         mode \u001b[38;5;241m+\u001b[39m\u001b[38;5;241m=\u001b[39m \u001b[38;5;124m\"\u001b[39m\u001b[38;5;124mb\u001b[39m\u001b[38;5;124m\"\u001b[39m\n\u001b[1;32m-> 1880\u001b[0m \u001b[38;5;28mself\u001b[39m\u001b[38;5;241m.\u001b[39mhandles \u001b[38;5;241m=\u001b[39m \u001b[43mget_handle\u001b[49m\u001b[43m(\u001b[49m\n\u001b[0;32m   1881\u001b[0m \u001b[43m    \u001b[49m\u001b[43mf\u001b[49m\u001b[43m,\u001b[49m\n\u001b[0;32m   1882\u001b[0m \u001b[43m    \u001b[49m\u001b[43mmode\u001b[49m\u001b[43m,\u001b[49m\n\u001b[0;32m   1883\u001b[0m \u001b[43m    \u001b[49m\u001b[43mencoding\u001b[49m\u001b[38;5;241;43m=\u001b[39;49m\u001b[38;5;28;43mself\u001b[39;49m\u001b[38;5;241;43m.\u001b[39;49m\u001b[43moptions\u001b[49m\u001b[38;5;241;43m.\u001b[39;49m\u001b[43mget\u001b[49m\u001b[43m(\u001b[49m\u001b[38;5;124;43m\"\u001b[39;49m\u001b[38;5;124;43mencoding\u001b[39;49m\u001b[38;5;124;43m\"\u001b[39;49m\u001b[43m,\u001b[49m\u001b[43m \u001b[49m\u001b[38;5;28;43;01mNone\u001b[39;49;00m\u001b[43m)\u001b[49m\u001b[43m,\u001b[49m\n\u001b[0;32m   1884\u001b[0m \u001b[43m    \u001b[49m\u001b[43mcompression\u001b[49m\u001b[38;5;241;43m=\u001b[39;49m\u001b[38;5;28;43mself\u001b[39;49m\u001b[38;5;241;43m.\u001b[39;49m\u001b[43moptions\u001b[49m\u001b[38;5;241;43m.\u001b[39;49m\u001b[43mget\u001b[49m\u001b[43m(\u001b[49m\u001b[38;5;124;43m\"\u001b[39;49m\u001b[38;5;124;43mcompression\u001b[39;49m\u001b[38;5;124;43m\"\u001b[39;49m\u001b[43m,\u001b[49m\u001b[43m \u001b[49m\u001b[38;5;28;43;01mNone\u001b[39;49;00m\u001b[43m)\u001b[49m\u001b[43m,\u001b[49m\n\u001b[0;32m   1885\u001b[0m \u001b[43m    \u001b[49m\u001b[43mmemory_map\u001b[49m\u001b[38;5;241;43m=\u001b[39;49m\u001b[38;5;28;43mself\u001b[39;49m\u001b[38;5;241;43m.\u001b[39;49m\u001b[43moptions\u001b[49m\u001b[38;5;241;43m.\u001b[39;49m\u001b[43mget\u001b[49m\u001b[43m(\u001b[49m\u001b[38;5;124;43m\"\u001b[39;49m\u001b[38;5;124;43mmemory_map\u001b[39;49m\u001b[38;5;124;43m\"\u001b[39;49m\u001b[43m,\u001b[49m\u001b[43m \u001b[49m\u001b[38;5;28;43;01mFalse\u001b[39;49;00m\u001b[43m)\u001b[49m\u001b[43m,\u001b[49m\n\u001b[0;32m   1886\u001b[0m \u001b[43m    \u001b[49m\u001b[43mis_text\u001b[49m\u001b[38;5;241;43m=\u001b[39;49m\u001b[43mis_text\u001b[49m\u001b[43m,\u001b[49m\n\u001b[0;32m   1887\u001b[0m \u001b[43m    \u001b[49m\u001b[43merrors\u001b[49m\u001b[38;5;241;43m=\u001b[39;49m\u001b[38;5;28;43mself\u001b[39;49m\u001b[38;5;241;43m.\u001b[39;49m\u001b[43moptions\u001b[49m\u001b[38;5;241;43m.\u001b[39;49m\u001b[43mget\u001b[49m\u001b[43m(\u001b[49m\u001b[38;5;124;43m\"\u001b[39;49m\u001b[38;5;124;43mencoding_errors\u001b[39;49m\u001b[38;5;124;43m\"\u001b[39;49m\u001b[43m,\u001b[49m\u001b[43m \u001b[49m\u001b[38;5;124;43m\"\u001b[39;49m\u001b[38;5;124;43mstrict\u001b[39;49m\u001b[38;5;124;43m\"\u001b[39;49m\u001b[43m)\u001b[49m\u001b[43m,\u001b[49m\n\u001b[0;32m   1888\u001b[0m \u001b[43m    \u001b[49m\u001b[43mstorage_options\u001b[49m\u001b[38;5;241;43m=\u001b[39;49m\u001b[38;5;28;43mself\u001b[39;49m\u001b[38;5;241;43m.\u001b[39;49m\u001b[43moptions\u001b[49m\u001b[38;5;241;43m.\u001b[39;49m\u001b[43mget\u001b[49m\u001b[43m(\u001b[49m\u001b[38;5;124;43m\"\u001b[39;49m\u001b[38;5;124;43mstorage_options\u001b[39;49m\u001b[38;5;124;43m\"\u001b[39;49m\u001b[43m,\u001b[49m\u001b[43m \u001b[49m\u001b[38;5;28;43;01mNone\u001b[39;49;00m\u001b[43m)\u001b[49m\u001b[43m,\u001b[49m\n\u001b[0;32m   1889\u001b[0m \u001b[43m\u001b[49m\u001b[43m)\u001b[49m\n\u001b[0;32m   1890\u001b[0m \u001b[38;5;28;01massert\u001b[39;00m \u001b[38;5;28mself\u001b[39m\u001b[38;5;241m.\u001b[39mhandles \u001b[38;5;129;01mis\u001b[39;00m \u001b[38;5;129;01mnot\u001b[39;00m \u001b[38;5;28;01mNone\u001b[39;00m\n\u001b[0;32m   1891\u001b[0m f \u001b[38;5;241m=\u001b[39m \u001b[38;5;28mself\u001b[39m\u001b[38;5;241m.\u001b[39mhandles\u001b[38;5;241m.\u001b[39mhandle\n",
      "File \u001b[1;32mc:\\Users\\chand\\AppData\\Local\\Programs\\Python\\Python312\\Lib\\site-packages\\pandas\\io\\common.py:873\u001b[0m, in \u001b[0;36mget_handle\u001b[1;34m(path_or_buf, mode, encoding, compression, memory_map, is_text, errors, storage_options)\u001b[0m\n\u001b[0;32m    868\u001b[0m \u001b[38;5;28;01melif\u001b[39;00m \u001b[38;5;28misinstance\u001b[39m(handle, \u001b[38;5;28mstr\u001b[39m):\n\u001b[0;32m    869\u001b[0m     \u001b[38;5;66;03m# Check whether the filename is to be opened in binary mode.\u001b[39;00m\n\u001b[0;32m    870\u001b[0m     \u001b[38;5;66;03m# Binary mode does not support 'encoding' and 'newline'.\u001b[39;00m\n\u001b[0;32m    871\u001b[0m     \u001b[38;5;28;01mif\u001b[39;00m ioargs\u001b[38;5;241m.\u001b[39mencoding \u001b[38;5;129;01mand\u001b[39;00m \u001b[38;5;124m\"\u001b[39m\u001b[38;5;124mb\u001b[39m\u001b[38;5;124m\"\u001b[39m \u001b[38;5;129;01mnot\u001b[39;00m \u001b[38;5;129;01min\u001b[39;00m ioargs\u001b[38;5;241m.\u001b[39mmode:\n\u001b[0;32m    872\u001b[0m         \u001b[38;5;66;03m# Encoding\u001b[39;00m\n\u001b[1;32m--> 873\u001b[0m         handle \u001b[38;5;241m=\u001b[39m \u001b[38;5;28;43mopen\u001b[39;49m\u001b[43m(\u001b[49m\n\u001b[0;32m    874\u001b[0m \u001b[43m            \u001b[49m\u001b[43mhandle\u001b[49m\u001b[43m,\u001b[49m\n\u001b[0;32m    875\u001b[0m \u001b[43m            \u001b[49m\u001b[43mioargs\u001b[49m\u001b[38;5;241;43m.\u001b[39;49m\u001b[43mmode\u001b[49m\u001b[43m,\u001b[49m\n\u001b[0;32m    876\u001b[0m \u001b[43m            \u001b[49m\u001b[43mencoding\u001b[49m\u001b[38;5;241;43m=\u001b[39;49m\u001b[43mioargs\u001b[49m\u001b[38;5;241;43m.\u001b[39;49m\u001b[43mencoding\u001b[49m\u001b[43m,\u001b[49m\n\u001b[0;32m    877\u001b[0m \u001b[43m            \u001b[49m\u001b[43merrors\u001b[49m\u001b[38;5;241;43m=\u001b[39;49m\u001b[43merrors\u001b[49m\u001b[43m,\u001b[49m\n\u001b[0;32m    878\u001b[0m \u001b[43m            \u001b[49m\u001b[43mnewline\u001b[49m\u001b[38;5;241;43m=\u001b[39;49m\u001b[38;5;124;43m\"\u001b[39;49m\u001b[38;5;124;43m\"\u001b[39;49m\u001b[43m,\u001b[49m\n\u001b[0;32m    879\u001b[0m \u001b[43m        \u001b[49m\u001b[43m)\u001b[49m\n\u001b[0;32m    880\u001b[0m     \u001b[38;5;28;01melse\u001b[39;00m:\n\u001b[0;32m    881\u001b[0m         \u001b[38;5;66;03m# Binary mode\u001b[39;00m\n\u001b[0;32m    882\u001b[0m         handle \u001b[38;5;241m=\u001b[39m \u001b[38;5;28mopen\u001b[39m(handle, ioargs\u001b[38;5;241m.\u001b[39mmode)\n",
      "\u001b[1;31mFileNotFoundError\u001b[0m: [Errno 2] No such file or directory: 'C:/Users/pavan/OneDrive/Desktop/iris.csv'"
     ]
    }
   ],
   "source": [
    "df = pd.read_csv('C:/Users/pavan/OneDrive/Desktop/iris.csv')"
   ]
  },
  {
   "cell_type": "code",
   "execution_count": null,
   "id": "67151365-a997-4bc2-bd38-0139ddd6e448",
   "metadata": {},
   "outputs": [
    {
     "ename": "NameError",
     "evalue": "name 'df' is not defined",
     "output_type": "error",
     "traceback": [
      "\u001b[1;31m---------------------------------------------------------------------------\u001b[0m",
      "\u001b[1;31mNameError\u001b[0m                                 Traceback (most recent call last)",
      "Cell \u001b[1;32mIn[11], line 1\u001b[0m\n\u001b[1;32m----> 1\u001b[0m df\n",
      "\u001b[1;31mNameError\u001b[0m: name 'df' is not defined"
     ]
    }
   ],
   "source": [
    "df"
   ]
  },
  {
   "cell_type": "code",
   "execution_count": null,
   "id": "9e456bc3-e081-4103-b51e-d11db8b89770",
   "metadata": {},
   "outputs": [],
   "source": [
    "df.columns"
   ]
  },
  {
   "cell_type": "code",
   "execution_count": null,
   "id": "029c1664-5880-4751-9c10-d294e870e2c1",
   "metadata": {},
   "outputs": [],
   "source": [
    "df.info()"
   ]
  },
  {
   "cell_type": "code",
   "execution_count": null,
   "id": "1826c74c-d2ac-4408-a416-0cbf0b4d8934",
   "metadata": {},
   "outputs": [],
   "source": [
    "df.head()     # top 5 rows"
   ]
  },
  {
   "cell_type": "code",
   "execution_count": null,
   "id": "4e986780-55e5-4f88-b1ec-c394eb4bda30",
   "metadata": {},
   "outputs": [],
   "source": [
    "df.head(30)    # first 30 rows "
   ]
  },
  {
   "cell_type": "code",
   "execution_count": null,
   "id": "465965eb-daa5-4f7d-a0b8-69022d5e7e47",
   "metadata": {},
   "outputs": [],
   "source": [
    "df.tail()   # bottom 5 rows"
   ]
  },
  {
   "cell_type": "code",
   "execution_count": null,
   "id": "664b30a8-e0ec-481b-897b-101ee0fe5754",
   "metadata": {},
   "outputs": [],
   "source": [
    "df.tail(10)   # last 10 rows"
   ]
  },
  {
   "cell_type": "code",
   "execution_count": null,
   "id": "eddef393-bc5a-47d8-bc76-85acfc6d1fd3",
   "metadata": {},
   "outputs": [],
   "source": [
    "df.dtypes  # data types of each column"
   ]
  },
  {
   "cell_type": "code",
   "execution_count": null,
   "id": "aff8b3c5-61e8-4002-98be-d4bc314f1193",
   "metadata": {},
   "outputs": [],
   "source": [
    "df.shape    # dimensions of dataset"
   ]
  },
  {
   "cell_type": "code",
   "execution_count": null,
   "id": "1a902606-7d9a-4b4f-9e8b-4ecfb43d3b01",
   "metadata": {},
   "outputs": [],
   "source": [
    "df.index    # index of dataframe"
   ]
  },
  {
   "cell_type": "code",
   "execution_count": null,
   "id": "e1f02839-21f8-4f3b-94e8-db70b9f93cc6",
   "metadata": {},
   "outputs": [],
   "source": [
    "df.isna().sum()   # sum of null value in each column"
   ]
  },
  {
   "cell_type": "code",
   "execution_count": null,
   "id": "cff38f62-c14d-4dce-b9ca-0d183c02752f",
   "metadata": {},
   "outputs": [],
   "source": [
    "df.isnull().any()   # check for null values in each column"
   ]
  },
  {
   "cell_type": "code",
   "execution_count": null,
   "id": "5c107009-dd27-4f45-85a0-6e60b5ddc45c",
   "metadata": {},
   "outputs": [],
   "source": [
    "# accessing column data by column name"
   ]
  },
  {
   "cell_type": "code",
   "execution_count": null,
   "id": "5943e892-010f-4a47-a0a4-bc80bcb8c9ce",
   "metadata": {},
   "outputs": [],
   "source": [
    "df['sepal.length']"
   ]
  },
  {
   "cell_type": "code",
   "execution_count": null,
   "id": "70a51098-8595-4d6f-a106-2b6c335c5e70",
   "metadata": {},
   "outputs": [],
   "source": [
    "df[['sepal.length','sepal.width']]   # accessing multiple columns"
   ]
  },
  {
   "cell_type": "code",
   "execution_count": null,
   "id": "b2fcf812-f2a6-4aa2-9643-8a0f6c2611e0",
   "metadata": {},
   "outputs": [],
   "source": [
    "df['sepal.length'].head(10)"
   ]
  },
  {
   "cell_type": "code",
   "execution_count": null,
   "id": "35e00621-5cf1-46c6-add0-ccafd3649f94",
   "metadata": {},
   "outputs": [],
   "source": [
    "df[['sepal.length','sepal.width']].head(10)"
   ]
  },
  {
   "cell_type": "code",
   "execution_count": null,
   "id": "1da914d2-8ca5-4ee8-9f42-06b77534d0bd",
   "metadata": {},
   "outputs": [],
   "source": [
    "# return sepal.length values which is greater than 5\n",
    "\n",
    "df[df['sepal.length']>5]"
   ]
  },
  {
   "cell_type": "code",
   "execution_count": null,
   "id": "f035c85c-eef6-4db2-b219-b5cbd70763ee",
   "metadata": {},
   "outputs": [],
   "source": [
    "df['sepal.length'][df['sepal.length']>5]"
   ]
  },
  {
   "cell_type": "code",
   "execution_count": null,
   "id": "066834ae-94f0-4bd2-bfff-2738d91be14a",
   "metadata": {},
   "outputs": [],
   "source": [
    "a = df['sepal.length']\n",
    "a[a>5]"
   ]
  },
  {
   "cell_type": "code",
   "execution_count": null,
   "id": "6da2599c-4bf8-4ab3-a081-56a8ed9b406d",
   "metadata": {},
   "outputs": [],
   "source": [
    "for i in df['sepal.length']:\n",
    "    if i>5:\n",
    "        print(i,end='')\n",
    "    "
   ]
  },
  {
   "cell_type": "code",
   "execution_count": null,
   "id": "7d0693df-f4e3-4378-a2a1-9bcaa4100ec4",
   "metadata": {},
   "outputs": [],
   "source": [
    "# find mean and median of sepal.width column of iris dataset"
   ]
  },
  {
   "cell_type": "code",
   "execution_count": null,
   "id": "3eac0d23-4ee8-4040-8f49-f5227b61f9a7",
   "metadata": {},
   "outputs": [],
   "source": [
    "df['sepal.width'].mean()"
   ]
  },
  {
   "cell_type": "code",
   "execution_count": null,
   "id": "08b4dc3c-ba63-4b40-b71d-af919250984d",
   "metadata": {},
   "outputs": [],
   "source": [
    "import numpy as np"
   ]
  },
  {
   "cell_type": "code",
   "execution_count": null,
   "id": "03b5872b-0d2f-4656-97fd-cec0c371d53c",
   "metadata": {},
   "outputs": [],
   "source": [
    "np.median(df['sepal.width'])"
   ]
  },
  {
   "cell_type": "code",
   "execution_count": null,
   "id": "31cd4ce9-a52f-49e8-87fc-5dfada30aa5d",
   "metadata": {},
   "outputs": [],
   "source": [
    "# variance\n",
    "\n",
    "df['sepal.width'].var()"
   ]
  },
  {
   "cell_type": "code",
   "execution_count": null,
   "id": "5247e6f4-39dc-432d-9580-274ebd278ca7",
   "metadata": {},
   "outputs": [],
   "source": [
    "# standard deviation\n",
    "\n",
    "df['sepal.width'].std()"
   ]
  },
  {
   "cell_type": "code",
   "execution_count": null,
   "id": "1b122a4e-89af-49ec-bd9c-9a14dc403005",
   "metadata": {},
   "outputs": [],
   "source": [
    "# sum of column values\n",
    "\n",
    "df['sepal.width'].sum()"
   ]
  },
  {
   "cell_type": "code",
   "execution_count": null,
   "id": "b7f23085-4849-44fa-bd85-d4a657d0d073",
   "metadata": {},
   "outputs": [],
   "source": [
    "df.columns"
   ]
  },
  {
   "cell_type": "code",
   "execution_count": null,
   "id": "dd951167-acbc-45ac-8c0a-bea8ae1e5bfb",
   "metadata": {},
   "outputs": [],
   "source": [
    "# occurance of each category\n",
    "\n",
    "df['variety'].value_counts()"
   ]
  },
  {
   "cell_type": "code",
   "execution_count": null,
   "id": "eb2549b1-1ef7-4702-b622-4915acc998c9",
   "metadata": {},
   "outputs": [],
   "source": [
    "df.describe()   # statistical summary"
   ]
  },
  {
   "cell_type": "code",
   "execution_count": null,
   "id": "4f7d2166-6400-4e9b-9b60-45a9eecbb8ff",
   "metadata": {},
   "outputs": [],
   "source": [
    "df['sepal.length'].sort_values()  # sort column values in ascending order"
   ]
  },
  {
   "cell_type": "code",
   "execution_count": null,
   "id": "42399b1b-f700-4afb-8936-b960ee14a41b",
   "metadata": {},
   "outputs": [],
   "source": [
    "df['sepal.length'].sort_values(ascending=False)   # sort in descending"
   ]
  },
  {
   "cell_type": "code",
   "execution_count": null,
   "id": "787933a9-8213-43d0-a5f1-3a3b5d4a9523",
   "metadata": {},
   "outputs": [],
   "source": [
    "# sort petal.width and petal.length in descending order"
   ]
  },
  {
   "cell_type": "code",
   "execution_count": null,
   "id": "f9689957-a0c3-4ecb-86fa-919d3a2bfdd3",
   "metadata": {},
   "outputs": [],
   "source": [
    "df[['petal.width','petal.length']].sort_values(by = 'petal.width',ascending=False)"
   ]
  },
  {
   "cell_type": "code",
   "execution_count": null,
   "id": "7e0e0aaa-f73f-4878-a0da-cd13c42975cd",
   "metadata": {},
   "outputs": [],
   "source": [
    "df.sort_values(by='sepal.width')   # sorting a data based on particular column"
   ]
  },
  {
   "cell_type": "code",
   "execution_count": null,
   "id": "c1768524-3b55-4ebc-b270-1d71fb2c8820",
   "metadata": {},
   "outputs": [],
   "source": [
    "df.sort_values(by='sepal.width').reset_index()"
   ]
  },
  {
   "cell_type": "code",
   "execution_count": null,
   "id": "71690e40-758a-4da9-84e1-39cb17693f70",
   "metadata": {},
   "outputs": [],
   "source": [
    "# accessing dataframe rows (slicing)"
   ]
  },
  {
   "cell_type": "code",
   "execution_count": null,
   "id": "ba198f03-917e-463b-923c-d26bf1ca882d",
   "metadata": {},
   "outputs": [],
   "source": [
    "df.iloc[0:10]"
   ]
  },
  {
   "cell_type": "code",
   "execution_count": null,
   "id": "a447e7e4-d9ed-4443-8db6-0dc1504bc7bf",
   "metadata": {},
   "outputs": [
    {
     "ename": "NameError",
     "evalue": "name 'df' is not defined",
     "output_type": "error",
     "traceback": [
      "\u001b[1;31m---------------------------------------------------------------------------\u001b[0m",
      "\u001b[1;31mNameError\u001b[0m                                 Traceback (most recent call last)",
      "Cell \u001b[1;32mIn[12], line 1\u001b[0m\n\u001b[1;32m----> 1\u001b[0m df\u001b[38;5;241m.\u001b[39miloc[\u001b[38;5;241m0\u001b[39m:\u001b[38;5;241m10\u001b[39m,\u001b[38;5;241m0\u001b[39m:\u001b[38;5;241m3\u001b[39m]\n",
      "\u001b[1;31mNameError\u001b[0m: name 'df' is not defined"
     ]
    }
   ],
   "source": [
    "df.iloc[0:10,0:3]"
   ]
  },
  {
   "cell_type": "code",
   "execution_count": null,
   "id": "83b0ec30-195b-4636-b2e2-b5cd6e759898",
   "metadata": {},
   "outputs": [],
   "source": [
    "# accessing columns (slicing)"
   ]
  },
  {
   "cell_type": "code",
   "execution_count": null,
   "id": "394f5565-6f7f-47d7-9343-2a13988cb70e",
   "metadata": {},
   "outputs": [],
   "source": [
    "df.iloc[:,0:2]  # all rows, 2 columns....  (:) means all"
   ]
  },
  {
   "cell_type": "code",
   "execution_count": null,
   "id": "a6c4d9cc-775a-4f39-9e3a-74b4abefae73",
   "metadata": {},
   "outputs": [],
   "source": [
    "# all rows, first 4 columns\n",
    "\n",
    "df.iloc[:,0:4]"
   ]
  },
  {
   "cell_type": "code",
   "execution_count": null,
   "id": "244cb04e-9129-4c9c-98be-0bd8de31ea87",
   "metadata": {},
   "outputs": [],
   "source": [
    "import datetime"
   ]
  },
  {
   "cell_type": "code",
   "execution_count": null,
   "id": "4693162c-cb31-41ef-b47e-2e5600a06845",
   "metadata": {},
   "outputs": [
    {
     "name": "stdout",
     "output_type": "stream",
     "text": [
      "2024-09-13 10:49:44.408608\n"
     ]
    }
   ],
   "source": [
    "x = datetime.datetime.now()\n",
    "print(x)"
   ]
  },
  {
   "cell_type": "raw",
   "id": "4639bb8a-eda0-4963-9dd9-3ebea0c343fa",
   "metadata": {},
   "source": [
    "# Generating a range of dates"
   ]
  },
  {
   "cell_type": "code",
   "execution_count": null,
   "id": "bd271347-2af8-426e-af5e-49e4d3729756",
   "metadata": {},
   "outputs": [
    {
     "data": {
      "text/plain": [
       "DatetimeIndex(['2024-09-13', '2024-09-14', '2024-09-15', '2024-09-16',\n",
       "               '2024-09-17', '2024-09-18', '2024-09-19'],\n",
       "              dtype='datetime64[ns]', freq='D')"
      ]
     },
     "execution_count": 151,
     "metadata": {},
     "output_type": "execute_result"
    }
   ],
   "source": [
    "dates = pd.date_range(start='2024-09-13',end='2024-09-19')\n",
    "dates"
   ]
  },
  {
   "cell_type": "code",
   "execution_count": null,
   "id": "a8349e7e-85d4-4785-80c4-56028c7dcf4e",
   "metadata": {},
   "outputs": [
    {
     "data": {
      "text/plain": [
       "DatetimeIndex(['2024-09-13 10:49:45.589577', '2024-09-14 10:49:45.589577',\n",
       "               '2024-09-15 10:49:45.589577', '2024-09-16 10:49:45.589577',\n",
       "               '2024-09-17 10:49:45.589577', '2024-09-18 10:49:45.589577',\n",
       "               '2024-09-19 10:49:45.589577'],\n",
       "              dtype='datetime64[ns]', freq='D')"
      ]
     },
     "execution_count": 153,
     "metadata": {},
     "output_type": "execute_result"
    }
   ],
   "source": [
    "dates = pd.date_range('today',periods=7)\n",
    "dates"
   ]
  },
  {
   "cell_type": "code",
   "execution_count": null,
   "id": "5bf4dec3-b722-4a08-94e6-0ac493fea244",
   "metadata": {},
   "outputs": [
    {
     "data": {
      "text/plain": [
       "DatetimeIndex(['2024-09-13', '2024-09-14', '2024-09-15', '2024-09-16',\n",
       "               '2024-09-17', '2024-09-18', '2024-09-19'],\n",
       "              dtype='datetime64[ns]', freq='D')"
      ]
     },
     "execution_count": 155,
     "metadata": {},
     "output_type": "execute_result"
    }
   ],
   "source": [
    "dates = pd.date_range(start='2024-09-13',periods=7)\n",
    "dates"
   ]
  },
  {
   "cell_type": "code",
   "execution_count": null,
   "id": "33c2f9e2-2b12-4080-a5fc-37bc46c15a66",
   "metadata": {},
   "outputs": [],
   "source": [
    "# create a dataframe of 7 rows x 7 random numbers and use dates as index"
   ]
  },
  {
   "cell_type": "code",
   "execution_count": null,
   "id": "b6f06d52-e964-472f-bd61-90367be05d42",
   "metadata": {},
   "outputs": [
    {
     "data": {
      "text/html": [
       "<div>\n",
       "<style scoped>\n",
       "    .dataframe tbody tr th:only-of-type {\n",
       "        vertical-align: middle;\n",
       "    }\n",
       "\n",
       "    .dataframe tbody tr th {\n",
       "        vertical-align: top;\n",
       "    }\n",
       "\n",
       "    .dataframe thead th {\n",
       "        text-align: right;\n",
       "    }\n",
       "</style>\n",
       "<table border=\"1\" class=\"dataframe\">\n",
       "  <thead>\n",
       "    <tr style=\"text-align: right;\">\n",
       "      <th></th>\n",
       "      <th>0</th>\n",
       "      <th>1</th>\n",
       "      <th>2</th>\n",
       "      <th>3</th>\n",
       "      <th>4</th>\n",
       "      <th>5</th>\n",
       "      <th>6</th>\n",
       "    </tr>\n",
       "  </thead>\n",
       "  <tbody>\n",
       "    <tr>\n",
       "      <th>2024-09-13</th>\n",
       "      <td>0.581748</td>\n",
       "      <td>0.369102</td>\n",
       "      <td>0.129080</td>\n",
       "      <td>0.506137</td>\n",
       "      <td>0.908257</td>\n",
       "      <td>0.703553</td>\n",
       "      <td>0.214969</td>\n",
       "    </tr>\n",
       "    <tr>\n",
       "      <th>2024-09-14</th>\n",
       "      <td>0.629581</td>\n",
       "      <td>0.057657</td>\n",
       "      <td>0.419180</td>\n",
       "      <td>0.153842</td>\n",
       "      <td>0.395561</td>\n",
       "      <td>0.048320</td>\n",
       "      <td>0.115960</td>\n",
       "    </tr>\n",
       "    <tr>\n",
       "      <th>2024-09-15</th>\n",
       "      <td>0.204096</td>\n",
       "      <td>0.722278</td>\n",
       "      <td>0.620780</td>\n",
       "      <td>0.211765</td>\n",
       "      <td>0.024966</td>\n",
       "      <td>0.484202</td>\n",
       "      <td>0.258139</td>\n",
       "    </tr>\n",
       "    <tr>\n",
       "      <th>2024-09-16</th>\n",
       "      <td>0.884740</td>\n",
       "      <td>0.473502</td>\n",
       "      <td>0.468473</td>\n",
       "      <td>0.401003</td>\n",
       "      <td>0.125240</td>\n",
       "      <td>0.537986</td>\n",
       "      <td>0.156252</td>\n",
       "    </tr>\n",
       "    <tr>\n",
       "      <th>2024-09-17</th>\n",
       "      <td>0.847656</td>\n",
       "      <td>0.637890</td>\n",
       "      <td>0.472013</td>\n",
       "      <td>0.091788</td>\n",
       "      <td>0.694942</td>\n",
       "      <td>0.815701</td>\n",
       "      <td>0.327778</td>\n",
       "    </tr>\n",
       "    <tr>\n",
       "      <th>2024-09-18</th>\n",
       "      <td>0.286106</td>\n",
       "      <td>0.618493</td>\n",
       "      <td>0.577040</td>\n",
       "      <td>0.298102</td>\n",
       "      <td>0.852292</td>\n",
       "      <td>0.118423</td>\n",
       "      <td>0.763785</td>\n",
       "    </tr>\n",
       "    <tr>\n",
       "      <th>2024-09-19</th>\n",
       "      <td>0.006040</td>\n",
       "      <td>0.175489</td>\n",
       "      <td>0.867430</td>\n",
       "      <td>0.591493</td>\n",
       "      <td>0.354563</td>\n",
       "      <td>0.888056</td>\n",
       "      <td>0.424215</td>\n",
       "    </tr>\n",
       "  </tbody>\n",
       "</table>\n",
       "</div>"
      ],
      "text/plain": [
       "                   0         1         2         3         4         5  \\\n",
       "2024-09-13  0.581748  0.369102  0.129080  0.506137  0.908257  0.703553   \n",
       "2024-09-14  0.629581  0.057657  0.419180  0.153842  0.395561  0.048320   \n",
       "2024-09-15  0.204096  0.722278  0.620780  0.211765  0.024966  0.484202   \n",
       "2024-09-16  0.884740  0.473502  0.468473  0.401003  0.125240  0.537986   \n",
       "2024-09-17  0.847656  0.637890  0.472013  0.091788  0.694942  0.815701   \n",
       "2024-09-18  0.286106  0.618493  0.577040  0.298102  0.852292  0.118423   \n",
       "2024-09-19  0.006040  0.175489  0.867430  0.591493  0.354563  0.888056   \n",
       "\n",
       "                   6  \n",
       "2024-09-13  0.214969  \n",
       "2024-09-14  0.115960  \n",
       "2024-09-15  0.258139  \n",
       "2024-09-16  0.156252  \n",
       "2024-09-17  0.327778  \n",
       "2024-09-18  0.763785  \n",
       "2024-09-19  0.424215  "
      ]
     },
     "execution_count": 159,
     "metadata": {},
     "output_type": "execute_result"
    }
   ],
   "source": [
    "N = np.random.random([7,7])\n",
    "Id = pd.date_range(start='2024-09-13',end='2024-09-19')\n",
    "df = pd.DataFrame(N,index=Id)\n",
    "df"
   ]
  },
  {
   "cell_type": "code",
   "execution_count": null,
   "id": "31877091-b690-4a6a-bb64-939bda49ce0f",
   "metadata": {},
   "outputs": [],
   "source": [
    "#change column names as C1,C2,C3...C7"
   ]
  },
  {
   "cell_type": "code",
   "execution_count": null,
   "id": "3cca853f-96de-4633-ac1b-ee061eb0c385",
   "metadata": {},
   "outputs": [
    {
     "data": {
      "text/html": [
       "<div>\n",
       "<style scoped>\n",
       "    .dataframe tbody tr th:only-of-type {\n",
       "        vertical-align: middle;\n",
       "    }\n",
       "\n",
       "    .dataframe tbody tr th {\n",
       "        vertical-align: top;\n",
       "    }\n",
       "\n",
       "    .dataframe thead th {\n",
       "        text-align: right;\n",
       "    }\n",
       "</style>\n",
       "<table border=\"1\" class=\"dataframe\">\n",
       "  <thead>\n",
       "    <tr style=\"text-align: right;\">\n",
       "      <th></th>\n",
       "      <th>C1</th>\n",
       "      <th>C2</th>\n",
       "      <th>C3</th>\n",
       "      <th>C4</th>\n",
       "      <th>C5</th>\n",
       "      <th>C6</th>\n",
       "      <th>C7</th>\n",
       "    </tr>\n",
       "  </thead>\n",
       "  <tbody>\n",
       "    <tr>\n",
       "      <th>2024-09-13</th>\n",
       "      <td>0.581748</td>\n",
       "      <td>0.369102</td>\n",
       "      <td>0.129080</td>\n",
       "      <td>0.506137</td>\n",
       "      <td>0.908257</td>\n",
       "      <td>0.703553</td>\n",
       "      <td>0.214969</td>\n",
       "    </tr>\n",
       "    <tr>\n",
       "      <th>2024-09-14</th>\n",
       "      <td>0.629581</td>\n",
       "      <td>0.057657</td>\n",
       "      <td>0.419180</td>\n",
       "      <td>0.153842</td>\n",
       "      <td>0.395561</td>\n",
       "      <td>0.048320</td>\n",
       "      <td>0.115960</td>\n",
       "    </tr>\n",
       "    <tr>\n",
       "      <th>2024-09-15</th>\n",
       "      <td>0.204096</td>\n",
       "      <td>0.722278</td>\n",
       "      <td>0.620780</td>\n",
       "      <td>0.211765</td>\n",
       "      <td>0.024966</td>\n",
       "      <td>0.484202</td>\n",
       "      <td>0.258139</td>\n",
       "    </tr>\n",
       "    <tr>\n",
       "      <th>2024-09-16</th>\n",
       "      <td>0.884740</td>\n",
       "      <td>0.473502</td>\n",
       "      <td>0.468473</td>\n",
       "      <td>0.401003</td>\n",
       "      <td>0.125240</td>\n",
       "      <td>0.537986</td>\n",
       "      <td>0.156252</td>\n",
       "    </tr>\n",
       "    <tr>\n",
       "      <th>2024-09-17</th>\n",
       "      <td>0.847656</td>\n",
       "      <td>0.637890</td>\n",
       "      <td>0.472013</td>\n",
       "      <td>0.091788</td>\n",
       "      <td>0.694942</td>\n",
       "      <td>0.815701</td>\n",
       "      <td>0.327778</td>\n",
       "    </tr>\n",
       "    <tr>\n",
       "      <th>2024-09-18</th>\n",
       "      <td>0.286106</td>\n",
       "      <td>0.618493</td>\n",
       "      <td>0.577040</td>\n",
       "      <td>0.298102</td>\n",
       "      <td>0.852292</td>\n",
       "      <td>0.118423</td>\n",
       "      <td>0.763785</td>\n",
       "    </tr>\n",
       "    <tr>\n",
       "      <th>2024-09-19</th>\n",
       "      <td>0.006040</td>\n",
       "      <td>0.175489</td>\n",
       "      <td>0.867430</td>\n",
       "      <td>0.591493</td>\n",
       "      <td>0.354563</td>\n",
       "      <td>0.888056</td>\n",
       "      <td>0.424215</td>\n",
       "    </tr>\n",
       "  </tbody>\n",
       "</table>\n",
       "</div>"
      ],
      "text/plain": [
       "                  C1        C2        C3        C4        C5        C6  \\\n",
       "2024-09-13  0.581748  0.369102  0.129080  0.506137  0.908257  0.703553   \n",
       "2024-09-14  0.629581  0.057657  0.419180  0.153842  0.395561  0.048320   \n",
       "2024-09-15  0.204096  0.722278  0.620780  0.211765  0.024966  0.484202   \n",
       "2024-09-16  0.884740  0.473502  0.468473  0.401003  0.125240  0.537986   \n",
       "2024-09-17  0.847656  0.637890  0.472013  0.091788  0.694942  0.815701   \n",
       "2024-09-18  0.286106  0.618493  0.577040  0.298102  0.852292  0.118423   \n",
       "2024-09-19  0.006040  0.175489  0.867430  0.591493  0.354563  0.888056   \n",
       "\n",
       "                  C7  \n",
       "2024-09-13  0.214969  \n",
       "2024-09-14  0.115960  \n",
       "2024-09-15  0.258139  \n",
       "2024-09-16  0.156252  \n",
       "2024-09-17  0.327778  \n",
       "2024-09-18  0.763785  \n",
       "2024-09-19  0.424215  "
      ]
     },
     "execution_count": 163,
     "metadata": {},
     "output_type": "execute_result"
    }
   ],
   "source": [
    "df.columns=['C1','C2','C3','C4','C5','C6','C7']\n",
    "df"
   ]
  },
  {
   "cell_type": "code",
   "execution_count": null,
   "id": "bcc84f99-f13c-45b1-b214-c0039cad614c",
   "metadata": {},
   "outputs": [],
   "source": [
    "# access data of dates from 13 to 16 by using row lables-loc"
   ]
  },
  {
   "cell_type": "code",
   "execution_count": null,
   "id": "06442036-06e0-4d63-9ae0-28bf22887871",
   "metadata": {},
   "outputs": [
    {
     "data": {
      "text/html": [
       "<div>\n",
       "<style scoped>\n",
       "    .dataframe tbody tr th:only-of-type {\n",
       "        vertical-align: middle;\n",
       "    }\n",
       "\n",
       "    .dataframe tbody tr th {\n",
       "        vertical-align: top;\n",
       "    }\n",
       "\n",
       "    .dataframe thead th {\n",
       "        text-align: right;\n",
       "    }\n",
       "</style>\n",
       "<table border=\"1\" class=\"dataframe\">\n",
       "  <thead>\n",
       "    <tr style=\"text-align: right;\">\n",
       "      <th></th>\n",
       "      <th>C1</th>\n",
       "      <th>C2</th>\n",
       "      <th>C3</th>\n",
       "      <th>C4</th>\n",
       "      <th>C5</th>\n",
       "      <th>C6</th>\n",
       "      <th>C7</th>\n",
       "    </tr>\n",
       "  </thead>\n",
       "  <tbody>\n",
       "    <tr>\n",
       "      <th>2024-09-13</th>\n",
       "      <td>0.581748</td>\n",
       "      <td>0.369102</td>\n",
       "      <td>0.129080</td>\n",
       "      <td>0.506137</td>\n",
       "      <td>0.908257</td>\n",
       "      <td>0.703553</td>\n",
       "      <td>0.214969</td>\n",
       "    </tr>\n",
       "    <tr>\n",
       "      <th>2024-09-14</th>\n",
       "      <td>0.629581</td>\n",
       "      <td>0.057657</td>\n",
       "      <td>0.419180</td>\n",
       "      <td>0.153842</td>\n",
       "      <td>0.395561</td>\n",
       "      <td>0.048320</td>\n",
       "      <td>0.115960</td>\n",
       "    </tr>\n",
       "    <tr>\n",
       "      <th>2024-09-15</th>\n",
       "      <td>0.204096</td>\n",
       "      <td>0.722278</td>\n",
       "      <td>0.620780</td>\n",
       "      <td>0.211765</td>\n",
       "      <td>0.024966</td>\n",
       "      <td>0.484202</td>\n",
       "      <td>0.258139</td>\n",
       "    </tr>\n",
       "    <tr>\n",
       "      <th>2024-09-16</th>\n",
       "      <td>0.884740</td>\n",
       "      <td>0.473502</td>\n",
       "      <td>0.468473</td>\n",
       "      <td>0.401003</td>\n",
       "      <td>0.125240</td>\n",
       "      <td>0.537986</td>\n",
       "      <td>0.156252</td>\n",
       "    </tr>\n",
       "  </tbody>\n",
       "</table>\n",
       "</div>"
      ],
      "text/plain": [
       "                  C1        C2        C3        C4        C5        C6  \\\n",
       "2024-09-13  0.581748  0.369102  0.129080  0.506137  0.908257  0.703553   \n",
       "2024-09-14  0.629581  0.057657  0.419180  0.153842  0.395561  0.048320   \n",
       "2024-09-15  0.204096  0.722278  0.620780  0.211765  0.024966  0.484202   \n",
       "2024-09-16  0.884740  0.473502  0.468473  0.401003  0.125240  0.537986   \n",
       "\n",
       "                  C7  \n",
       "2024-09-13  0.214969  \n",
       "2024-09-14  0.115960  \n",
       "2024-09-15  0.258139  \n",
       "2024-09-16  0.156252  "
      ]
     },
     "execution_count": 188,
     "metadata": {},
     "output_type": "execute_result"
    }
   ],
   "source": [
    "df.loc['2024-09-13':'2024-09-16']"
   ]
  },
  {
   "cell_type": "code",
   "execution_count": null,
   "id": "52afdd2b-f0f5-49fe-a667-b4ba56036dfb",
   "metadata": {},
   "outputs": [
    {
     "data": {
      "text/html": [
       "<div>\n",
       "<style scoped>\n",
       "    .dataframe tbody tr th:only-of-type {\n",
       "        vertical-align: middle;\n",
       "    }\n",
       "\n",
       "    .dataframe tbody tr th {\n",
       "        vertical-align: top;\n",
       "    }\n",
       "\n",
       "    .dataframe thead th {\n",
       "        text-align: right;\n",
       "    }\n",
       "</style>\n",
       "<table border=\"1\" class=\"dataframe\">\n",
       "  <thead>\n",
       "    <tr style=\"text-align: right;\">\n",
       "      <th></th>\n",
       "      <th>C1</th>\n",
       "      <th>C2</th>\n",
       "      <th>C3</th>\n",
       "      <th>C4</th>\n",
       "      <th>C5</th>\n",
       "      <th>C6</th>\n",
       "      <th>C7</th>\n",
       "    </tr>\n",
       "  </thead>\n",
       "  <tbody>\n",
       "    <tr>\n",
       "      <th>2024-09-13</th>\n",
       "      <td>0.581748</td>\n",
       "      <td>0.369102</td>\n",
       "      <td>0.12908</td>\n",
       "      <td>0.506137</td>\n",
       "      <td>0.908257</td>\n",
       "      <td>0.703553</td>\n",
       "      <td>0.214969</td>\n",
       "    </tr>\n",
       "    <tr>\n",
       "      <th>2024-09-14</th>\n",
       "      <td>0.629581</td>\n",
       "      <td>0.057657</td>\n",
       "      <td>0.41918</td>\n",
       "      <td>0.153842</td>\n",
       "      <td>0.395561</td>\n",
       "      <td>0.048320</td>\n",
       "      <td>0.115960</td>\n",
       "    </tr>\n",
       "    <tr>\n",
       "      <th>2024-09-15</th>\n",
       "      <td>0.204096</td>\n",
       "      <td>0.722278</td>\n",
       "      <td>0.62078</td>\n",
       "      <td>0.211765</td>\n",
       "      <td>0.024966</td>\n",
       "      <td>0.484202</td>\n",
       "      <td>0.258139</td>\n",
       "    </tr>\n",
       "  </tbody>\n",
       "</table>\n",
       "</div>"
      ],
      "text/plain": [
       "                  C1        C2       C3        C4        C5        C6  \\\n",
       "2024-09-13  0.581748  0.369102  0.12908  0.506137  0.908257  0.703553   \n",
       "2024-09-14  0.629581  0.057657  0.41918  0.153842  0.395561  0.048320   \n",
       "2024-09-15  0.204096  0.722278  0.62078  0.211765  0.024966  0.484202   \n",
       "\n",
       "                  C7  \n",
       "2024-09-13  0.214969  \n",
       "2024-09-14  0.115960  \n",
       "2024-09-15  0.258139  "
      ]
     },
     "execution_count": 170,
     "metadata": {},
     "output_type": "execute_result"
    }
   ],
   "source": [
    "# access first 3  rows using iloc\n",
    "\n",
    "df.iloc[0:3]"
   ]
  },
  {
   "cell_type": "code",
   "execution_count": null,
   "id": "3d9e4763-6c2c-4fbb-9b1e-3aec18e55dd9",
   "metadata": {},
   "outputs": [],
   "source": [
    "# accessing data of dates 14th to 19th in C4 column"
   ]
  },
  {
   "cell_type": "code",
   "execution_count": null,
   "id": "b92022c7-e82a-442a-bcda-f388619ec7ca",
   "metadata": {},
   "outputs": [
    {
     "data": {
      "text/plain": [
       "2024-09-14    0.153842\n",
       "2024-09-15    0.211765\n",
       "2024-09-16    0.401003\n",
       "2024-09-17    0.091788\n",
       "2024-09-18    0.298102\n",
       "2024-09-19    0.591493\n",
       "Freq: D, Name: C4, dtype: float64"
      ]
     },
     "execution_count": 174,
     "metadata": {},
     "output_type": "execute_result"
    }
   ],
   "source": [
    "df.loc['2024-09-14':'2024-09-19','C4']"
   ]
  },
  {
   "cell_type": "code",
   "execution_count": null,
   "id": "cd3798ec-dcd7-451c-8bec-980e17cfda4c",
   "metadata": {},
   "outputs": [
    {
     "data": {
      "text/html": [
       "<div>\n",
       "<style scoped>\n",
       "    .dataframe tbody tr th:only-of-type {\n",
       "        vertical-align: middle;\n",
       "    }\n",
       "\n",
       "    .dataframe tbody tr th {\n",
       "        vertical-align: top;\n",
       "    }\n",
       "\n",
       "    .dataframe thead th {\n",
       "        text-align: right;\n",
       "    }\n",
       "</style>\n",
       "<table border=\"1\" class=\"dataframe\">\n",
       "  <thead>\n",
       "    <tr style=\"text-align: right;\">\n",
       "      <th></th>\n",
       "      <th>C4</th>\n",
       "      <th>C5</th>\n",
       "    </tr>\n",
       "  </thead>\n",
       "  <tbody>\n",
       "    <tr>\n",
       "      <th>2024-09-14</th>\n",
       "      <td>0.153842</td>\n",
       "      <td>0.395561</td>\n",
       "    </tr>\n",
       "    <tr>\n",
       "      <th>2024-09-15</th>\n",
       "      <td>0.211765</td>\n",
       "      <td>0.024966</td>\n",
       "    </tr>\n",
       "    <tr>\n",
       "      <th>2024-09-16</th>\n",
       "      <td>0.401003</td>\n",
       "      <td>0.125240</td>\n",
       "    </tr>\n",
       "    <tr>\n",
       "      <th>2024-09-17</th>\n",
       "      <td>0.091788</td>\n",
       "      <td>0.694942</td>\n",
       "    </tr>\n",
       "    <tr>\n",
       "      <th>2024-09-18</th>\n",
       "      <td>0.298102</td>\n",
       "      <td>0.852292</td>\n",
       "    </tr>\n",
       "    <tr>\n",
       "      <th>2024-09-19</th>\n",
       "      <td>0.591493</td>\n",
       "      <td>0.354563</td>\n",
       "    </tr>\n",
       "  </tbody>\n",
       "</table>\n",
       "</div>"
      ],
      "text/plain": [
       "                  C4        C5\n",
       "2024-09-14  0.153842  0.395561\n",
       "2024-09-15  0.211765  0.024966\n",
       "2024-09-16  0.401003  0.125240\n",
       "2024-09-17  0.091788  0.694942\n",
       "2024-09-18  0.298102  0.852292\n",
       "2024-09-19  0.591493  0.354563"
      ]
     },
     "execution_count": 176,
     "metadata": {},
     "output_type": "execute_result"
    }
   ],
   "source": [
    "df.loc['2024-09-14':'2024-09-19','C4':'C5']"
   ]
  },
  {
   "cell_type": "code",
   "execution_count": null,
   "id": "4b07a390-fc07-4555-af4b-c40437d55113",
   "metadata": {},
   "outputs": [],
   "source": []
  }
 ],
 "metadata": {
  "kernelspec": {
   "display_name": "Python 3",
   "language": "python",
   "name": "python3"
  },
  "language_info": {
   "codemirror_mode": {
    "name": "ipython",
    "version": 3
   },
   "file_extension": ".py",
   "mimetype": "text/x-python",
   "name": "python",
   "nbconvert_exporter": "python",
   "pygments_lexer": "ipython3",
   "version": "3.12.5"
  }
 },
 "nbformat": 4,
 "nbformat_minor": 5
}
